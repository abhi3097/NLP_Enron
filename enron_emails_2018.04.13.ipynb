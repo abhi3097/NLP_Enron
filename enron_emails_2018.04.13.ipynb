{
 "cells": [
  {
   "cell_type": "code",
   "execution_count": 1,
   "metadata": {},
   "outputs": [
    {
     "name": "stderr",
     "output_type": "stream",
     "text": [
      "C:\\Users\\Colby\\Anaconda3\\lib\\site-packages\\gensim-3.4.0-py3.5-win-amd64.egg\\gensim\\utils.py:1197: UserWarning: detected Windows; aliasing chunkize to chunkize_serial\n",
      "  warnings.warn(\"detected Windows; aliasing chunkize to chunkize_serial\")\n"
     ]
    }
   ],
   "source": [
    "from __future__ import print_function\n",
    "from __future__ import division\n",
    "\n",
    "import os, sys\n",
    "import collections\n",
    "import re\n",
    "\n",
    "import numpy as np\n",
    "import pandas as pd\n",
    "import matplotlib.pyplot as plt\n",
    "import random\n",
    "\n",
    "import email\n",
    "import nltk\n",
    "from nltk.tokenize.treebank import TreebankWordTokenizer\n",
    "from nltk.tokenize import sent_tokenize\n",
    "from nltk.tokenize import RegexpTokenizer\n",
    "from scipy import sparse, hstack\n",
    "from sklearn.feature_extraction.text import *\n",
    "from sklearn.cluster import KMeans\n",
    "from sklearn.metrics.pairwise import cosine_similarity\n",
    "# run 'easy_install -U gensim' to install gensim and then re-launch jupyter notebook\n",
    "import gensim\n",
    "\n",
    "\n",
    "# Helper libraries\n",
    "import constants\n",
    "import utils\n",
    "import vocabulary"
   ]
  },
  {
   "cell_type": "markdown",
   "metadata": {},
   "source": [
    "## Load in Email Bodies\n",
    "Data source and exploration code: [Kaggle](https://www.kaggle.com/zichen/explore-enron)"
   ]
  },
  {
   "cell_type": "code",
   "execution_count": 2,
   "metadata": {},
   "outputs": [
    {
     "name": "stdout",
     "output_type": "stream",
     "text": [
      "Shape: (517401, 2)\n"
     ]
    },
    {
     "data": {
      "text/html": [
       "<div>\n",
       "<style>\n",
       "    .dataframe thead tr:only-child th {\n",
       "        text-align: right;\n",
       "    }\n",
       "\n",
       "    .dataframe thead th {\n",
       "        text-align: left;\n",
       "    }\n",
       "\n",
       "    .dataframe tbody tr th {\n",
       "        vertical-align: top;\n",
       "    }\n",
       "</style>\n",
       "<table border=\"1\" class=\"dataframe\">\n",
       "  <thead>\n",
       "    <tr style=\"text-align: right;\">\n",
       "      <th></th>\n",
       "      <th>file</th>\n",
       "      <th>message</th>\n",
       "    </tr>\n",
       "  </thead>\n",
       "  <tbody>\n",
       "    <tr>\n",
       "      <th>0</th>\n",
       "      <td>allen-p/_sent_mail/1.</td>\n",
       "      <td>Message-ID: &lt;18782981.1075855378110.JavaMail.e...</td>\n",
       "    </tr>\n",
       "    <tr>\n",
       "      <th>1</th>\n",
       "      <td>allen-p/_sent_mail/10.</td>\n",
       "      <td>Message-ID: &lt;15464986.1075855378456.JavaMail.e...</td>\n",
       "    </tr>\n",
       "    <tr>\n",
       "      <th>2</th>\n",
       "      <td>allen-p/_sent_mail/100.</td>\n",
       "      <td>Message-ID: &lt;24216240.1075855687451.JavaMail.e...</td>\n",
       "    </tr>\n",
       "    <tr>\n",
       "      <th>3</th>\n",
       "      <td>allen-p/_sent_mail/1000.</td>\n",
       "      <td>Message-ID: &lt;13505866.1075863688222.JavaMail.e...</td>\n",
       "    </tr>\n",
       "    <tr>\n",
       "      <th>4</th>\n",
       "      <td>allen-p/_sent_mail/1001.</td>\n",
       "      <td>Message-ID: &lt;30922949.1075863688243.JavaMail.e...</td>\n",
       "    </tr>\n",
       "  </tbody>\n",
       "</table>\n",
       "</div>"
      ],
      "text/plain": [
       "                       file                                            message\n",
       "0     allen-p/_sent_mail/1.  Message-ID: <18782981.1075855378110.JavaMail.e...\n",
       "1    allen-p/_sent_mail/10.  Message-ID: <15464986.1075855378456.JavaMail.e...\n",
       "2   allen-p/_sent_mail/100.  Message-ID: <24216240.1075855687451.JavaMail.e...\n",
       "3  allen-p/_sent_mail/1000.  Message-ID: <13505866.1075863688222.JavaMail.e...\n",
       "4  allen-p/_sent_mail/1001.  Message-ID: <30922949.1075863688243.JavaMail.e..."
      ]
     },
     "execution_count": 2,
     "metadata": {},
     "output_type": "execute_result"
    }
   ],
   "source": [
    "# load csv dataset - download from Kaggle (linked above, ~.5gb)\n",
    "\n",
    "# replace with local path\n",
    "path = 'C:/Users/Colby/Documents/Berkeley/266_NLP/final_project/data'\n",
    "\n",
    "# all emails for targeted search\n",
    "all_emails = pd.read_csv(path + '/emails.csv')\n",
    "#emails_df = pd.read_csv(path + '/emails.csv', Nrows = 50000)\n",
    "\n",
    "print(\"Shape:\", all_emails.shape)\n",
    "all_emails.head()\n",
    "#print(all_emails['message'][1])"
   ]
  },
  {
   "cell_type": "code",
   "execution_count": 3,
   "metadata": {
    "collapsed": true,
    "scrolled": true
   },
   "outputs": [],
   "source": [
    "# citation: Kaggle exploration code\n",
    "# isolate email body\n",
    "# run-time: ~ 3 minutes on full dataset\n",
    "\n",
    "def get_text_from_email(msg):\n",
    "    '''To get the content from email objects'''\n",
    "    parts = []\n",
    "    for part in msg.walk():\n",
    "        if part.get_content_type() == 'text/plain':\n",
    "            parts.append( part.get_payload() )\n",
    "    return ''.join(parts)\n",
    "\n",
    "# Parse the emails into a list email objects\n",
    "messages = list(map(email.message_from_string, all_emails['message']))\n",
    "#emails_df.drop('message', axis=1, inplace=True)\n",
    "\n",
    "# Parse content from emails\n",
    "all_emails['content_str'] = list(map(get_text_from_email, messages))\n",
    "\n",
    "del messages"
   ]
  },
  {
   "cell_type": "code",
   "execution_count": 4,
   "metadata": {},
   "outputs": [
    {
     "name": "stdout",
     "output_type": "stream",
     "text": [
      "Full shape: (517401, 3)\n",
      "Mini shape: (50000, 3)\n"
     ]
    },
    {
     "data": {
      "text/html": [
       "<div>\n",
       "<style>\n",
       "    .dataframe thead tr:only-child th {\n",
       "        text-align: right;\n",
       "    }\n",
       "\n",
       "    .dataframe thead th {\n",
       "        text-align: left;\n",
       "    }\n",
       "\n",
       "    .dataframe tbody tr th {\n",
       "        vertical-align: top;\n",
       "    }\n",
       "</style>\n",
       "<table border=\"1\" class=\"dataframe\">\n",
       "  <thead>\n",
       "    <tr style=\"text-align: right;\">\n",
       "      <th></th>\n",
       "      <th>file</th>\n",
       "      <th>message</th>\n",
       "      <th>content_str</th>\n",
       "    </tr>\n",
       "  </thead>\n",
       "  <tbody>\n",
       "    <tr>\n",
       "      <th>0</th>\n",
       "      <td>allen-p/_sent_mail/1.</td>\n",
       "      <td>Message-ID: &lt;18782981.1075855378110.JavaMail.e...</td>\n",
       "      <td>Here is our forecast\\n\\n</td>\n",
       "    </tr>\n",
       "    <tr>\n",
       "      <th>1</th>\n",
       "      <td>allen-p/_sent_mail/10.</td>\n",
       "      <td>Message-ID: &lt;15464986.1075855378456.JavaMail.e...</td>\n",
       "      <td>Traveling to have a business meeting takes the...</td>\n",
       "    </tr>\n",
       "    <tr>\n",
       "      <th>2</th>\n",
       "      <td>allen-p/_sent_mail/100.</td>\n",
       "      <td>Message-ID: &lt;24216240.1075855687451.JavaMail.e...</td>\n",
       "      <td>test successful.  way to go!!!</td>\n",
       "    </tr>\n",
       "    <tr>\n",
       "      <th>3</th>\n",
       "      <td>allen-p/_sent_mail/1000.</td>\n",
       "      <td>Message-ID: &lt;13505866.1075863688222.JavaMail.e...</td>\n",
       "      <td>Randy,\\n\\n Can you send me a schedule of the s...</td>\n",
       "    </tr>\n",
       "    <tr>\n",
       "      <th>4</th>\n",
       "      <td>allen-p/_sent_mail/1001.</td>\n",
       "      <td>Message-ID: &lt;30922949.1075863688243.JavaMail.e...</td>\n",
       "      <td>Let's shoot for Tuesday at 11:45.</td>\n",
       "    </tr>\n",
       "  </tbody>\n",
       "</table>\n",
       "</div>"
      ],
      "text/plain": [
       "                       file  \\\n",
       "0     allen-p/_sent_mail/1.   \n",
       "1    allen-p/_sent_mail/10.   \n",
       "2   allen-p/_sent_mail/100.   \n",
       "3  allen-p/_sent_mail/1000.   \n",
       "4  allen-p/_sent_mail/1001.   \n",
       "\n",
       "                                             message  \\\n",
       "0  Message-ID: <18782981.1075855378110.JavaMail.e...   \n",
       "1  Message-ID: <15464986.1075855378456.JavaMail.e...   \n",
       "2  Message-ID: <24216240.1075855687451.JavaMail.e...   \n",
       "3  Message-ID: <13505866.1075863688222.JavaMail.e...   \n",
       "4  Message-ID: <30922949.1075863688243.JavaMail.e...   \n",
       "\n",
       "                                         content_str  \n",
       "0                          Here is our forecast\\n\\n   \n",
       "1  Traveling to have a business meeting takes the...  \n",
       "2                     test successful.  way to go!!!  \n",
       "3  Randy,\\n\\n Can you send me a schedule of the s...  \n",
       "4                Let's shoot for Tuesday at 11:45.    "
      ]
     },
     "execution_count": 4,
     "metadata": {},
     "output_type": "execute_result"
    }
   ],
   "source": [
    "# mini version for preprocessing (to save run-time)\n",
    "size = 50000\n",
    "emails_df = all_emails.loc[range(size),]\n",
    "print(\"Full shape:\", all_emails.shape)\n",
    "print(\"Mini shape:\", emails_df.shape)\n",
    "\n",
    "# *for full preprocessing and training: uncomment pointer to all_emails*\n",
    "#emails_df = all_emails\n",
    "emails_df.head()"
   ]
  },
  {
   "cell_type": "markdown",
   "metadata": {},
   "source": [
    "## Preprocess Raw Email Contents"
   ]
  },
  {
   "cell_type": "code",
   "execution_count": 118,
   "metadata": {
    "collapsed": true
   },
   "outputs": [],
   "source": [
    "# REPLACED\n",
    "\n",
    "# tokenize and canonicalize each email to get vocab\n",
    "# WARNING: THIS STEP TAKES ~30 MINUTES ON LOCAL MACHINE WHEN USING ALL 500K EMAILS\n",
    "#tokenizer = TreebankWordTokenizer()\n",
    "#all_tokens = []\n",
    "#email_tokens = []\n",
    "#emails_preprocessed = []\n",
    "\n",
    "#for i, body in enumerate(emails_df[\"content_str\"]):\n",
    "    #get sentence level\n",
    "#    sents = nltk.tokenize.sent_tokenize(body)\n",
    "#    canon = []\n",
    "#    proc_body = []\n",
    "#    for sent in sents:\n",
    "        #list of tokens in sentence\n",
    "#        sent_tokens = tokenizer.tokenize(sent.lower())\n",
    "#        canon += utils.canonicalize_words(sent_tokens)\n",
    "#        new_sent = [\"<s>\"]\n",
    "#        for w in canon:\n",
    "#            if w != \",\" and \"--\" not in w and \"@\" not in w and \"http\" not in w:\n",
    "#                new_sent += w\n",
    "        # remove digits\n",
    "#        proc_body += new_sent\n",
    "#    emails_preprocessed.append(proc_body)\n",
    "\n",
    "#emails_df[\"content_tokens\"] = email_tokens\n",
    "#print(\"Total Number of Tokens:\", len(all_tokens))\n",
    "#emails_df[\"content_proc\"] = emails_preprocessed\n",
    "#emails_df.head()"
   ]
  },
  {
   "cell_type": "code",
   "execution_count": 119,
   "metadata": {
    "collapsed": true
   },
   "outputs": [],
   "source": [
    "# build vocab\n",
    "# V = size\n",
    "#V = 10000\n",
    "#vocab = vocabulary.Vocabulary(all_tokens, size=V)\n",
    "#vocab = vocabulary.Vocabulary(all_tokens)\n",
    "#print(\"Vocabulary size: {:,}\".format(vocab.size))\n",
    "#vocab_ids = vocab.words_to_ids(all_tokens)\n",
    "#print(\"Unigrams: \", len(vocab.unigram_counts))\n",
    "\n",
    "#emails_df.head()"
   ]
  },
  {
   "cell_type": "code",
   "execution_count": 5,
   "metadata": {},
   "outputs": [
    {
     "name": "stdout",
     "output_type": "stream",
     "text": [
      "(50000, 4)\n"
     ]
    },
    {
     "data": {
      "text/html": [
       "<div>\n",
       "<style>\n",
       "    .dataframe thead tr:only-child th {\n",
       "        text-align: right;\n",
       "    }\n",
       "\n",
       "    .dataframe thead th {\n",
       "        text-align: left;\n",
       "    }\n",
       "\n",
       "    .dataframe tbody tr th {\n",
       "        vertical-align: top;\n",
       "    }\n",
       "</style>\n",
       "<table border=\"1\" class=\"dataframe\">\n",
       "  <thead>\n",
       "    <tr style=\"text-align: right;\">\n",
       "      <th></th>\n",
       "      <th>file</th>\n",
       "      <th>message</th>\n",
       "      <th>content_str</th>\n",
       "      <th>content_proc</th>\n",
       "    </tr>\n",
       "  </thead>\n",
       "  <tbody>\n",
       "    <tr>\n",
       "      <th>0</th>\n",
       "      <td>allen-p/_sent_mail/1.</td>\n",
       "      <td>Message-ID: &lt;18782981.1075855378110.JavaMail.e...</td>\n",
       "      <td>Here is our forecast\\n\\n</td>\n",
       "      <td>[here, is, our, forecast, &lt;s&gt;]</td>\n",
       "    </tr>\n",
       "    <tr>\n",
       "      <th>1</th>\n",
       "      <td>allen-p/_sent_mail/10.</td>\n",
       "      <td>Message-ID: &lt;15464986.1075855378456.JavaMail.e...</td>\n",
       "      <td>Traveling to have a business meeting takes the...</td>\n",
       "      <td>[traveling, to, have, a, business, meeting, ta...</td>\n",
       "    </tr>\n",
       "    <tr>\n",
       "      <th>2</th>\n",
       "      <td>allen-p/_sent_mail/100.</td>\n",
       "      <td>Message-ID: &lt;24216240.1075855687451.JavaMail.e...</td>\n",
       "      <td>test successful.  way to go!!!</td>\n",
       "      <td>[test, successful, &lt;s&gt;, way, to, go, !, !, &lt;s&gt;...</td>\n",
       "    </tr>\n",
       "    <tr>\n",
       "      <th>3</th>\n",
       "      <td>allen-p/_sent_mail/1000.</td>\n",
       "      <td>Message-ID: &lt;13505866.1075863688222.JavaMail.e...</td>\n",
       "      <td>Randy,\\n\\n Can you send me a schedule of the s...</td>\n",
       "      <td>[randy, can, you, send, me, a, schedule, of, t...</td>\n",
       "    </tr>\n",
       "    <tr>\n",
       "      <th>4</th>\n",
       "      <td>allen-p/_sent_mail/1001.</td>\n",
       "      <td>Message-ID: &lt;30922949.1075863688243.JavaMail.e...</td>\n",
       "      <td>Let's shoot for Tuesday at 11:45.</td>\n",
       "      <td>[let, 's, shoot, for, tuesday, at, DGDG:DGDG, ...</td>\n",
       "    </tr>\n",
       "  </tbody>\n",
       "</table>\n",
       "</div>"
      ],
      "text/plain": [
       "                       file  \\\n",
       "0     allen-p/_sent_mail/1.   \n",
       "1    allen-p/_sent_mail/10.   \n",
       "2   allen-p/_sent_mail/100.   \n",
       "3  allen-p/_sent_mail/1000.   \n",
       "4  allen-p/_sent_mail/1001.   \n",
       "\n",
       "                                             message  \\\n",
       "0  Message-ID: <18782981.1075855378110.JavaMail.e...   \n",
       "1  Message-ID: <15464986.1075855378456.JavaMail.e...   \n",
       "2  Message-ID: <24216240.1075855687451.JavaMail.e...   \n",
       "3  Message-ID: <13505866.1075863688222.JavaMail.e...   \n",
       "4  Message-ID: <30922949.1075863688243.JavaMail.e...   \n",
       "\n",
       "                                         content_str  \\\n",
       "0                          Here is our forecast\\n\\n    \n",
       "1  Traveling to have a business meeting takes the...   \n",
       "2                     test successful.  way to go!!!   \n",
       "3  Randy,\\n\\n Can you send me a schedule of the s...   \n",
       "4                Let's shoot for Tuesday at 11:45.     \n",
       "\n",
       "                                        content_proc  \n",
       "0                     [here, is, our, forecast, <s>]  \n",
       "1  [traveling, to, have, a, business, meeting, ta...  \n",
       "2  [test, successful, <s>, way, to, go, !, !, <s>...  \n",
       "3  [randy, can, you, send, me, a, schedule, of, t...  \n",
       "4  [let, 's, shoot, for, tuesday, at, DGDG:DGDG, ...  "
      ]
     },
     "execution_count": 5,
     "metadata": {},
     "output_type": "execute_result"
    }
   ],
   "source": [
    "# PREPROCESSING STEP\n",
    "# run-time = 30 mins on local machine with FULL dataset\n",
    "\n",
    "tokenizer = TreebankWordTokenizer()\n",
    "\n",
    "# preprocess email bodies with unknowns and sentence buffers\n",
    "emails_preprocessed = []\n",
    "\n",
    "for i, body in enumerate(emails_df[\"content_str\"]):\n",
    "    #get sentence level\n",
    "    sents = nltk.tokenize.sent_tokenize(body.lower())\n",
    "    list_sents = []\n",
    "    canon = []\n",
    "    for sent in sents:\n",
    "        #list of tokens in sentence\n",
    "        sent_tokens = tokenizer.tokenize(sent)\n",
    "        new_sent = []\n",
    "        for w in sent_tokens:\n",
    "            re.sub(\"-\",\"\",w)\n",
    "            if (w!=\",\" and w!=\".\" and \"--\" not in w and \"@\" not in w and \"forwarded\" not in w and \"http\" not in w and \"www.\" not in w):\n",
    "                new_sent += [w]\n",
    "        #canon += utils.canonicalize_words(sent_tokens)\n",
    "        list_sents += utils.canonicalize_words(new_sent)+[\"<s>\"]\n",
    "        #if canon != \",\" and canon != \".\" and \"--\" not in canon and \"@\" not in canon and \"http\" not in canon:\n",
    "            #list_sents += canon+[\"<s>\"]\n",
    "    #preprocessed = list(utils.preprocess_sentences(list_sents, vocab, use_eos=True, emit_ids=False))\n",
    "    #just keep word IDs\n",
    "    #preprocessed = list_sents\n",
    "    emails_preprocessed.append(list_sents)\n",
    "\n",
    "emails_df[\"content_proc\"] = emails_preprocessed\n",
    "#emails_preprocessed[2]\n",
    "print(emails_df.shape)\n",
    "emails_df.head()"
   ]
  },
  {
   "cell_type": "markdown",
   "metadata": {},
   "source": [
    "#### Limit Length of Emails to 2,000 Preprocessed Words"
   ]
  },
  {
   "cell_type": "code",
   "execution_count": 6,
   "metadata": {},
   "outputs": [
    {
     "name": "stdout",
     "output_type": "stream",
     "text": [
      "(50000, 4)\n"
     ]
    },
    {
     "data": {
      "text/html": [
       "<div>\n",
       "<style>\n",
       "    .dataframe thead tr:only-child th {\n",
       "        text-align: right;\n",
       "    }\n",
       "\n",
       "    .dataframe thead th {\n",
       "        text-align: left;\n",
       "    }\n",
       "\n",
       "    .dataframe tbody tr th {\n",
       "        vertical-align: top;\n",
       "    }\n",
       "</style>\n",
       "<table border=\"1\" class=\"dataframe\">\n",
       "  <thead>\n",
       "    <tr style=\"text-align: right;\">\n",
       "      <th></th>\n",
       "      <th>file</th>\n",
       "      <th>message</th>\n",
       "      <th>content_str</th>\n",
       "      <th>content_proc</th>\n",
       "      <th>content_length</th>\n",
       "    </tr>\n",
       "  </thead>\n",
       "  <tbody>\n",
       "    <tr>\n",
       "      <th>0</th>\n",
       "      <td>allen-p/_sent_mail/1.</td>\n",
       "      <td>Message-ID: &lt;18782981.1075855378110.JavaMail.e...</td>\n",
       "      <td>Here is our forecast\\n\\n</td>\n",
       "      <td>[here, is, our, forecast, &lt;s&gt;]</td>\n",
       "      <td>5</td>\n",
       "    </tr>\n",
       "    <tr>\n",
       "      <th>1</th>\n",
       "      <td>allen-p/_sent_mail/10.</td>\n",
       "      <td>Message-ID: &lt;15464986.1075855378456.JavaMail.e...</td>\n",
       "      <td>Traveling to have a business meeting takes the...</td>\n",
       "      <td>[traveling, to, have, a, business, meeting, ta...</td>\n",
       "      <td>150</td>\n",
       "    </tr>\n",
       "    <tr>\n",
       "      <th>2</th>\n",
       "      <td>allen-p/_sent_mail/100.</td>\n",
       "      <td>Message-ID: &lt;24216240.1075855687451.JavaMail.e...</td>\n",
       "      <td>test successful.  way to go!!!</td>\n",
       "      <td>[test, successful, &lt;s&gt;, way, to, go, !, !, &lt;s&gt;...</td>\n",
       "      <td>11</td>\n",
       "    </tr>\n",
       "    <tr>\n",
       "      <th>3</th>\n",
       "      <td>allen-p/_sent_mail/1000.</td>\n",
       "      <td>Message-ID: &lt;13505866.1075863688222.JavaMail.e...</td>\n",
       "      <td>Randy,\\n\\n Can you send me a schedule of the s...</td>\n",
       "      <td>[randy, can, you, send, me, a, schedule, of, t...</td>\n",
       "      <td>39</td>\n",
       "    </tr>\n",
       "    <tr>\n",
       "      <th>4</th>\n",
       "      <td>allen-p/_sent_mail/1001.</td>\n",
       "      <td>Message-ID: &lt;30922949.1075863688243.JavaMail.e...</td>\n",
       "      <td>Let's shoot for Tuesday at 11:45.</td>\n",
       "      <td>[let, 's, shoot, for, tuesday, at, DGDG:DGDG, ...</td>\n",
       "      <td>8</td>\n",
       "    </tr>\n",
       "  </tbody>\n",
       "</table>\n",
       "</div>"
      ],
      "text/plain": [
       "                       file  \\\n",
       "0     allen-p/_sent_mail/1.   \n",
       "1    allen-p/_sent_mail/10.   \n",
       "2   allen-p/_sent_mail/100.   \n",
       "3  allen-p/_sent_mail/1000.   \n",
       "4  allen-p/_sent_mail/1001.   \n",
       "\n",
       "                                             message  \\\n",
       "0  Message-ID: <18782981.1075855378110.JavaMail.e...   \n",
       "1  Message-ID: <15464986.1075855378456.JavaMail.e...   \n",
       "2  Message-ID: <24216240.1075855687451.JavaMail.e...   \n",
       "3  Message-ID: <13505866.1075863688222.JavaMail.e...   \n",
       "4  Message-ID: <30922949.1075863688243.JavaMail.e...   \n",
       "\n",
       "                                         content_str  \\\n",
       "0                          Here is our forecast\\n\\n    \n",
       "1  Traveling to have a business meeting takes the...   \n",
       "2                     test successful.  way to go!!!   \n",
       "3  Randy,\\n\\n Can you send me a schedule of the s...   \n",
       "4                Let's shoot for Tuesday at 11:45.     \n",
       "\n",
       "                                        content_proc  content_length  \n",
       "0                     [here, is, our, forecast, <s>]               5  \n",
       "1  [traveling, to, have, a, business, meeting, ta...             150  \n",
       "2  [test, successful, <s>, way, to, go, !, !, <s>...              11  \n",
       "3  [randy, can, you, send, me, a, schedule, of, t...              39  \n",
       "4  [let, 's, shoot, for, tuesday, at, DGDG:DGDG, ...               8  "
      ]
     },
     "execution_count": 6,
     "metadata": {},
     "output_type": "execute_result"
    }
   ],
   "source": [
    "# final preprocessed strings for feature generation\n",
    "#emails_df[\"content_proc\"] = emails_df[\"content_IDS\"].apply(lambda x: ' '.join(vocab.ids_to_words(x)))\n",
    "# email length feature\n",
    "print(emails_df.shape)\n",
    "emails_df[\"content_length\"] = emails_df[\"content_proc\"].apply(len)\n",
    "emails_df.head()"
   ]
  },
  {
   "cell_type": "code",
   "execution_count": 7,
   "metadata": {},
   "outputs": [
    {
     "name": "stdout",
     "output_type": "stream",
     "text": [
      "content_length\n",
      "29569    13468\n",
      "5528     13468\n",
      "5627     13671\n",
      "29603    13671\n",
      "5325     13752\n",
      "25388    14009\n",
      "5574     14009\n",
      "49127    14112\n",
      "49131    14721\n",
      "49134    15177\n",
      "49116    15855\n",
      "5374     16382\n",
      "6184     17160\n",
      "29607    18635\n",
      "5625     18635\n",
      "49121    21209\n",
      "6201     22186\n",
      "33844    27576\n",
      "33864    30623\n",
      "49122    33518\n",
      "Name: content_length, dtype: int64\n"
     ]
    },
    {
     "data": {
      "image/png": "[encoded data removed]",
      "text/plain": [
       "<matplotlib.figure.Figure at 0x2145ad1f588>"
      ]
     },
     "metadata": {},
     "output_type": "display_data"
    }
   ],
   "source": [
    "top_20 = np.argsort(emails_df[\"content_length\"]).tail(20)\n",
    "print(emails_df[\"content_length\"][top_20])\n",
    "plt.hist(np.array(emails_df[\"content_length\"]), bins=30, range=(0,5000))\n",
    "plt.title(\"Email Body Length Distribution\")\n",
    "plt.xlabel(\"Doc Length\")\n",
    "plt.ylabel(\"Frequency\")\n",
    "plt.show()"
   ]
  },
  {
   "cell_type": "code",
   "execution_count": 8,
   "metadata": {},
   "outputs": [
    {
     "data": {
      "text/html": [
       "<div>\n",
       "<style>\n",
       "    .dataframe thead tr:only-child th {\n",
       "        text-align: right;\n",
       "    }\n",
       "\n",
       "    .dataframe thead th {\n",
       "        text-align: left;\n",
       "    }\n",
       "\n",
       "    .dataframe tbody tr th {\n",
       "        vertical-align: top;\n",
       "    }\n",
       "</style>\n",
       "<table border=\"1\" class=\"dataframe\">\n",
       "  <thead>\n",
       "    <tr style=\"text-align: right;\">\n",
       "      <th></th>\n",
       "      <th>file</th>\n",
       "      <th>message</th>\n",
       "      <th>content_str</th>\n",
       "      <th>content_proc</th>\n",
       "      <th>content_length</th>\n",
       "      <th>email_list</th>\n",
       "      <th>email_str</th>\n",
       "    </tr>\n",
       "  </thead>\n",
       "  <tbody>\n",
       "    <tr>\n",
       "      <th>0</th>\n",
       "      <td>allen-p/_sent_mail/1.</td>\n",
       "      <td>Message-ID: &lt;18782981.1075855378110.JavaMail.e...</td>\n",
       "      <td>Here is our forecast\\n\\n</td>\n",
       "      <td>[here, is, our, forecast, &lt;s&gt;]</td>\n",
       "      <td>5</td>\n",
       "      <td>[here, is, our, forecast, &lt;s&gt;]</td>\n",
       "      <td>here is our forecast &lt;s&gt;</td>\n",
       "    </tr>\n",
       "    <tr>\n",
       "      <th>1</th>\n",
       "      <td>allen-p/_sent_mail/10.</td>\n",
       "      <td>Message-ID: &lt;15464986.1075855378456.JavaMail.e...</td>\n",
       "      <td>Traveling to have a business meeting takes the...</td>\n",
       "      <td>[traveling, to, have, a, business, meeting, ta...</td>\n",
       "      <td>150</td>\n",
       "      <td>[traveling, to, have, a, business, meeting, ta...</td>\n",
       "      <td>traveling to have a business meeting takes the...</td>\n",
       "    </tr>\n",
       "    <tr>\n",
       "      <th>2</th>\n",
       "      <td>allen-p/_sent_mail/100.</td>\n",
       "      <td>Message-ID: &lt;24216240.1075855687451.JavaMail.e...</td>\n",
       "      <td>test successful.  way to go!!!</td>\n",
       "      <td>[test, successful, &lt;s&gt;, way, to, go, !, !, &lt;s&gt;...</td>\n",
       "      <td>11</td>\n",
       "      <td>[test, successful, &lt;s&gt;, way, to, go, !, !, &lt;s&gt;...</td>\n",
       "      <td>test successful &lt;s&gt; way to go ! ! &lt;s&gt; ! &lt;s&gt;</td>\n",
       "    </tr>\n",
       "    <tr>\n",
       "      <th>3</th>\n",
       "      <td>allen-p/_sent_mail/1000.</td>\n",
       "      <td>Message-ID: &lt;13505866.1075863688222.JavaMail.e...</td>\n",
       "      <td>Randy,\\n\\n Can you send me a schedule of the s...</td>\n",
       "      <td>[randy, can, you, send, me, a, schedule, of, t...</td>\n",
       "      <td>39</td>\n",
       "      <td>[randy, can, you, send, me, a, schedule, of, t...</td>\n",
       "      <td>randy can you send me a schedule of the salary...</td>\n",
       "    </tr>\n",
       "    <tr>\n",
       "      <th>4</th>\n",
       "      <td>allen-p/_sent_mail/1001.</td>\n",
       "      <td>Message-ID: &lt;30922949.1075863688243.JavaMail.e...</td>\n",
       "      <td>Let's shoot for Tuesday at 11:45.</td>\n",
       "      <td>[let, 's, shoot, for, tuesday, at, DGDG:DGDG, ...</td>\n",
       "      <td>8</td>\n",
       "      <td>[let, 's, shoot, for, tuesday, at, DGDG:DGDG, ...</td>\n",
       "      <td>let 's shoot for tuesday at DGDG:DGDG &lt;s&gt;</td>\n",
       "    </tr>\n",
       "  </tbody>\n",
       "</table>\n",
       "</div>"
      ],
      "text/plain": [
       "                       file  \\\n",
       "0     allen-p/_sent_mail/1.   \n",
       "1    allen-p/_sent_mail/10.   \n",
       "2   allen-p/_sent_mail/100.   \n",
       "3  allen-p/_sent_mail/1000.   \n",
       "4  allen-p/_sent_mail/1001.   \n",
       "\n",
       "                                             message  \\\n",
       "0  Message-ID: <18782981.1075855378110.JavaMail.e...   \n",
       "1  Message-ID: <15464986.1075855378456.JavaMail.e...   \n",
       "2  Message-ID: <24216240.1075855687451.JavaMail.e...   \n",
       "3  Message-ID: <13505866.1075863688222.JavaMail.e...   \n",
       "4  Message-ID: <30922949.1075863688243.JavaMail.e...   \n",
       "\n",
       "                                         content_str  \\\n",
       "0                          Here is our forecast\\n\\n    \n",
       "1  Traveling to have a business meeting takes the...   \n",
       "2                     test successful.  way to go!!!   \n",
       "3  Randy,\\n\\n Can you send me a schedule of the s...   \n",
       "4                Let's shoot for Tuesday at 11:45.     \n",
       "\n",
       "                                        content_proc  content_length  \\\n",
       "0                     [here, is, our, forecast, <s>]               5   \n",
       "1  [traveling, to, have, a, business, meeting, ta...             150   \n",
       "2  [test, successful, <s>, way, to, go, !, !, <s>...              11   \n",
       "3  [randy, can, you, send, me, a, schedule, of, t...              39   \n",
       "4  [let, 's, shoot, for, tuesday, at, DGDG:DGDG, ...               8   \n",
       "\n",
       "                                          email_list  \\\n",
       "0                     [here, is, our, forecast, <s>]   \n",
       "1  [traveling, to, have, a, business, meeting, ta...   \n",
       "2  [test, successful, <s>, way, to, go, !, !, <s>...   \n",
       "3  [randy, can, you, send, me, a, schedule, of, t...   \n",
       "4  [let, 's, shoot, for, tuesday, at, DGDG:DGDG, ...   \n",
       "\n",
       "                                           email_str  \n",
       "0                           here is our forecast <s>  \n",
       "1  traveling to have a business meeting takes the...  \n",
       "2        test successful <s> way to go ! ! <s> ! <s>  \n",
       "3  randy can you send me a schedule of the salary...  \n",
       "4          let 's shoot for tuesday at DGDG:DGDG <s>  "
      ]
     },
     "execution_count": 8,
     "metadata": {},
     "output_type": "execute_result"
    }
   ],
   "source": [
    "max_len = 2500\n",
    "emails_df[\"email_list\"] = emails_df[\"content_proc\"].apply(lambda x: x[0:min(len(x), max_len)])\n",
    "emails_df[\"email_str\"] = emails_df[\"email_list\"].apply(lambda x: ' '.join(x))\n",
    "emails_df.head()"
   ]
  },
  {
   "cell_type": "markdown",
   "metadata": {},
   "source": [
    "## Query Raw Contents for Suspicious Phrases\n",
    "### Targeted Heuristics with Phrase Searches\n",
    "Use this block to search raw messages and store the row indexes in *target_ids*"
   ]
  },
  {
   "cell_type": "code",
   "execution_count": 21,
   "metadata": {
    "scrolled": true
   },
   "outputs": [
    {
     "name": "stdout",
     "output_type": "stream",
     "text": [
      "(62, 7)\n",
      "Matching indexes: [1332, 3054, 3947, 3949, 5279, 5325, 5383, 5434, 5835, 6203, 7103, 8011, 8154, 12696, 12846, 12865, 12971, 14810, 14917, 14933, 15082, 15760, 15885, 15898, 15989, 16388, 18242, 18451, 18527, 19477, 29200, 34128, 38614, 38636, 39103, 39740, 40234, 43417, 43889, 44221, 44701, 45139, 46975, 47053, 47069, 47080, 48147, 48398, 48655, 48727, 48738, 49084, 49115, 49116, 49131, 49300, 49381, 49496, 49499, 49517, 49585, 49794]\n"
     ]
    }
   ],
   "source": [
    "# test phrase - enter between quotes\n",
    "phrase = \"fraud\"\n",
    "\n",
    "query = emails_df[emails_df['email_str'].str.contains(phrase, case=False)]\n",
    "print(query.shape)\n",
    "print(\"Matching indexes:\", query.index.tolist())"
   ]
  },
  {
   "cell_type": "code",
   "execution_count": 20,
   "metadata": {},
   "outputs": [
    {
     "name": "stdout",
     "output_type": "stream",
     "text": [
      "California=01,s power crisis has generated heated debate over the last seve=\n",
      "ral=20\n",
      "months.  Unfortunately, this debate has generated more heat than light.  We=\n",
      "=20\n",
      "want you to know what the facts are and what we are doing about the crisis.=\n",
      " =20\n",
      "Please spend a few minutes reading the following overview on the situation=\n",
      "=20\n",
      "and our position on California energy issues.\n",
      "\n",
      "What happened in California\n",
      "\n",
      "The source of California=01,s current problem is as straightforward as supp=\n",
      "ly=20\n",
      "and demand.  California=01,s economy grew 29 percent since 1998.  This incr=\n",
      "eased=20\n",
      "the demand for electricity by 24 percent.  At the same time, regulatory=20\n",
      "restrictions prevented new generation from getting built in the state.  So=\n",
      "=20\n",
      "demand grew but regulations prevented supplies from being added.  The resul=\n",
      "t,=20\n",
      "predictably, is a shortage.  This summer, peak capacity will be about 10=20\n",
      "percent shy of peak demand, leading to further blackouts in the state.\n",
      "\n",
      "In addition to the supply and demand imbalance, there are two other related=\n",
      "=20\n",
      "factors that led to the current crisis.  First, the state=01,s regulations=\n",
      "=20\n",
      "forced all sales and purchases into the spot market.  The spot market for=\n",
      "=20\n",
      "power is extraordinarily volatile.  The way firms behave in a free market=\n",
      "=20\n",
      "when faced with such volatility is to construct a portfolio of purchases lo=\n",
      "ng=20\n",
      "term, medium term and short term, to reduce exposure to this volatility.  I=\n",
      "n=20\n",
      "California, state regulation prevented this strategy.  This would be the=20\n",
      "equivalent of putting the entire state on an adjustable rate mortgage in th=\n",
      "e=20\n",
      "most volatile interest rate environment imaginable.  Everything was fine=20\n",
      "while the power surplus persisted, but when shortages ensued, every megawat=\n",
      "t=20\n",
      "was purchased at the sky rocketing spot price.\n",
      "\n",
      "Second, retail markets were not deregulated.  Regulated retail rates remain=\n",
      "ed=20\n",
      "in effect, and stranded cost recovery charges were structured to keep=20\n",
      "competition out.  This meant that utilities were forced to pay high wholesa=\n",
      "le=20\n",
      "prices in the spot market but were only able to recover costs at the=20\n",
      "regulated retail rate.  They are now nearly bankrupt.\n",
      "\n",
      "In short, California=01,s problems were caused by regulation, not deregulat=\n",
      "ion. =20\n",
      "Regulations prevented competitors from entering the market, prevented new=\n",
      "=20\n",
      "generation from being built, and prevented prudent hedging against volatile=\n",
      "=20\n",
      "spot prices.\n",
      "\n",
      "At the time California was developing its restructuring plan, Enron warned=\n",
      "=20\n",
      "the state=01,s policy makers about these risks and proposed alternatives, w=\n",
      "hich,=20\n",
      "if adopted, would have averted the current crisis.\n",
      "\n",
      "Enron=01,s Role\n",
      "\n",
      "Many political leaders in the state have elected to fix blame rather than f=\n",
      "ix=20\n",
      "the problem.  Power sellers, including Enron, have been vilified by the=20\n",
      "politicians and the media.  Here are the facts:\n",
      "\n",
      "? Other than a small amount of wind power, Enron is not a generator in the=\n",
      "=20\n",
      "state of California.  Every megawatt we sold in California we bought in the=\n",
      "=20\n",
      "same market available to other California purchasers.  Because we are a=20\n",
      "market maker, not a generator, we are not biased toward high prices.  We ar=\n",
      "e=20\n",
      "interested only in having a market that works so that we can package produc=\n",
      "ts=20\n",
      "for our customers.\n",
      "? As a seller to end-use markets in the state, we provided protection from=\n",
      "=20\n",
      "the problems the states=01, utilities, and their customers, now face.  We=\n",
      "=20\n",
      "protected, and still protect, our customers from price volatility.\n",
      "\n",
      "You may have read that EES recently elected to have the utilities supply=20\n",
      "power directly to its customers in California instead of procuring power on=\n",
      "=20\n",
      "the open market.  Early reports mischaracterized this as a =01&turnback=018=\n",
      " of our=20\n",
      "customers to the utilities.  Here are the facts:\n",
      "\n",
      "? As a result of a variety of factors existing in the current California=20\n",
      "market, it made more sense for EES to source power for its customers direct=\n",
      "ly=20\n",
      "from the utilities.  This decision reduced EES=01,s market price risk by=20\n",
      "allowing EES to access lower utility rates.\n",
      "? EES did not terminate any customer contracts, and our customers continue =\n",
      "to=20\n",
      "receive the financial benefits of their contract prices.\n",
      "? EES is continuing to work with its California customers to provide them=\n",
      "=20\n",
      "with other energy-related products and services, including assistance in=20\n",
      "reducing the demand for power, particularly at peak times.\n",
      "\n",
      "Enron is currently proposing solutions to help California work out of its=\n",
      "=20\n",
      "crisis; Enron continues to sign up customers in the state; and Enron=20\n",
      "continues to actively manage its risks and capture opportunities in Western=\n",
      "=20\n",
      "power markets.  Enron=01,s primary business is managing risk for our custom=\n",
      "ers=20\n",
      "with solutions customized to meet their needs.  There has never been more=\n",
      "=20\n",
      "demand for our products and services.\n",
      "\n",
      "The Solution\n",
      "\n",
      "The solution to California=01,s crisis is also straightforward.  In summary=\n",
      ", the=20\n",
      "state must increase supply, reduce demand, reduce reliance on the spot mark=\n",
      "et=20\n",
      "and shore up the financial stability of the state=01,s utilities.\n",
      "\n",
      "Increasing Supply\n",
      "\n",
      "California=01,s process for siting and permitting new generation is nothing=\n",
      "=20\n",
      "short of Byzantine.  Enron has built plants elsewhere in the country in les=\n",
      "s=20\n",
      "than a year.  In California, it often takes 5 to 7 years.  California simpl=\n",
      "y=20\n",
      "must streamline this process.  Ironically, while many of the regulations=20\n",
      "generators must overcome are aimed at improving environmental quality, the=\n",
      "=20\n",
      "regulations are preventing new clean technology from coming online and=20\n",
      "displacing current plants, which emit 40 times as much NOx.  California can=\n",
      "=20\n",
      "have abundant power and cleaner air by expediting the permitting of new=20\n",
      "facilities.\n",
      "\n",
      "Reducing Demand\n",
      "\n",
      "Customers in California today have no incentive to reduce or shift demand. =\n",
      "=20\n",
      "They pay the same rate no matter what the market price is.  An open retail=\n",
      "=20\n",
      "market would trigger demand responses, which would balance supply and deman=\n",
      "d=20\n",
      "at lower prices than today.  California should fully open its retail market=\n",
      ".\n",
      "\n",
      "Reducing Reliance on the Spot Market\n",
      "\n",
      "In a truly deregulated market, customers would protect themselves from=20\n",
      "volatile spot prices by purchasing some of their requirements on a longer=\n",
      "=20\n",
      "term, fixed-price basis.  The state has instead left procurement in the han=\n",
      "ds=20\n",
      "of the utilities, which it has forced to buy exclusively in the spot market=\n",
      ". =20\n",
      "Opening the market at the retail level will give customers control over the=\n",
      "ir=20\n",
      "price risk.\n",
      "\n",
      "Restoring the Financial Integrity of the State=01,s Institutions\n",
      "\n",
      "The utilities in California are not paying their bills.  This has led to=20\n",
      "greater uncertainty in the market, higher costs, and reduced flexibility to=\n",
      "=20\n",
      "arrive at lasting solutions.  California must permit its utilities to recov=\n",
      "er=20\n",
      "their costs so they can pay their bills and invest in the transmission and=\n",
      "=20\n",
      "distribution assets necessary to get power from where it is to where it is=\n",
      "=20\n",
      "needed.\n",
      "\n",
      "Just as important as doing these things, the state must avoid policies that=\n",
      ",=20\n",
      "while politically attractive, do not fix the problem or even make matters=\n",
      "=20\n",
      "worse.  Price caps have been proposed.  They don=01,t work; have never work=\n",
      "ed;=20\n",
      "and they will not work here.  Price caps succeed only in creating shortages=\n",
      ",=20\n",
      "which then have to be allocated among competing users.  Imagine how=20\n",
      "ineffectively the government would be in determining, for example, whether =\n",
      "it=20\n",
      "is better to make its limited power supplies available to the Imperial Vall=\n",
      "ey=20\n",
      "or Silicon Valley.  Price caps are a surefire way to make the current=20\n",
      "shortage worse.\n",
      "\n",
      "The state has also proposed to take over generation and transmission in=20\n",
      "California.  There is no reason to believe, and every reason to doubt, that=\n",
      "=20\n",
      "the state will be more effective than free markets at investing in,=20\n",
      "constructing, operating and maintaining assets.  This will also result in=\n",
      "=20\n",
      "California tax revenues being spent on power transmission and power=20\n",
      "generation -- which the private sector can do -- instead of education, road=\n",
      "s=20\n",
      "and other public goods -- which the private sector cannot do.\n",
      "\n",
      "As you are approached by people outside the company or are learning about t=\n",
      "he=20\n",
      "crisis from the media, it=01,s important for you to know this:  We at Enron=\n",
      " will=20\n",
      "continue to serve our customers and we will continue to propose real=20\n",
      "solutions to the state. \n"
     ]
    }
   ],
   "source": [
    "# enter matching index from list above\n",
    "enter_id = 17932\n",
    "print(emails_df.loc[enter_id,'content_str'])\n",
    "\n",
    "# store ids here in the form {123: 1, 456: 1, ...}\n",
    "target_dict = {16212: 1, 450200: 1, 114757: 1, 373: 1, 346: 1, 405: 1, 27091: 1, 13966: 1, 8861: 1, 92183: 1, 17932: 1, 12955: 1, 8101: 1, 19004: 1,\n",
    "              32643: 1, 511: 1, 908: 1}"
   ]
  },
  {
   "cell_type": "markdown",
   "metadata": {},
   "source": [
    "### Review a Random Sample for Labeling\n",
    "\n",
    "200 examples from first 50,000 emails in the dataset"
   ]
  },
  {
   "cell_type": "code",
   "execution_count": 9,
   "metadata": {},
   "outputs": [
    {
     "name": "stdout",
     "output_type": "stream",
     "text": [
      "Sample set shape: (200, 3)\n"
     ]
    }
   ],
   "source": [
    "# keep seed = 24 for sample of first 50000 emails\n",
    "random.seed(24)\n",
    "rand_num = 100\n",
    "rand_ids_1 = random.sample(range(2000), rand_num)\n",
    "rand_ids_2 = random.sample(range(2000,50000), rand_num)\n",
    "rand_ids = rand_ids_1 + rand_ids_2\n",
    "rand_set = emails_df.loc[rand_ids,]\n",
    "#print(rand_ids)\n",
    "print(\"Sample set shape:\", rand_set.shape)\n",
    "#for id_ in rand_ids:\n",
    "#    print(id_)\n",
    "#    print(rand_set.loc[id_, 'content_str'])\n",
    "\n",
    "# assign labels based on id\n",
    "label_dict = {373: 1, 346: 1, 405: 1, 27091: 1, 13966: 1}\n",
    "rand_set[\"suspicious_ind\"] = np.zeros(len(rand_ids))\n",
    "for k in label_dict.keys():\n",
    "    rand_set.loc[k, \"suspicious_ind\"] = label_dict.get(k)"
   ]
  },
  {
   "cell_type": "code",
   "execution_count": 10,
   "metadata": {
    "scrolled": false
   },
   "outputs": [
    {
     "data": {
      "text/html": [
       "<div>\n",
       "<style>\n",
       "    .dataframe thead tr:only-child th {\n",
       "        text-align: right;\n",
       "    }\n",
       "\n",
       "    .dataframe thead th {\n",
       "        text-align: left;\n",
       "    }\n",
       "\n",
       "    .dataframe tbody tr th {\n",
       "        vertical-align: top;\n",
       "    }\n",
       "</style>\n",
       "<table border=\"1\" class=\"dataframe\">\n",
       "  <thead>\n",
       "    <tr style=\"text-align: right;\">\n",
       "      <th></th>\n",
       "      <th>file</th>\n",
       "      <th>message</th>\n",
       "      <th>content_str</th>\n",
       "      <th>suspicious_ind</th>\n",
       "    </tr>\n",
       "  </thead>\n",
       "  <tbody>\n",
       "    <tr>\n",
       "      <th>1458</th>\n",
       "      <td>allen-p/deleted_items/381.</td>\n",
       "      <td>Message-ID: &lt;26393700.1075862162007.JavaMail.e...</td>\n",
       "      <td>[IMAGE]\\n [IMAGE][IMAGE]       [IMAGE] Yahoo! ...</td>\n",
       "      <td>0.0</td>\n",
       "    </tr>\n",
       "    <tr>\n",
       "      <th>784</th>\n",
       "      <td>allen-p/all_documents/266.</td>\n",
       "      <td>Message-ID: &lt;16945.1075855671306.JavaMail.evan...</td>\n",
       "      <td>Kay &amp; Neal,\\n\\nThanks for remembering my birth...</td>\n",
       "      <td>0.0</td>\n",
       "    </tr>\n",
       "    <tr>\n",
       "      <th>1719</th>\n",
       "      <td>allen-p/discussion_threads/212.</td>\n",
       "      <td>Message-ID: &lt;19120705.1075855677934.JavaMail.e...</td>\n",
       "      <td>Attached  are two files that illustrate the fo...</td>\n",
       "      <td>0.0</td>\n",
       "    </tr>\n",
       "    <tr>\n",
       "      <th>1193</th>\n",
       "      <td>allen-p/all_documents/73.</td>\n",
       "      <td>Message-ID: &lt;22565759.1075855667097.JavaMail.e...</td>\n",
       "      <td>Put me down as a reviewer</td>\n",
       "      <td>0.0</td>\n",
       "    </tr>\n",
       "    <tr>\n",
       "      <th>373</th>\n",
       "      <td>allen-p/_sent_mail/439.</td>\n",
       "      <td>Message-ID: &lt;14134673.1075855725697.JavaMail.e...</td>\n",
       "      <td>Jacques,\\n\\nStill trying to close the loop on ...</td>\n",
       "      <td>1.0</td>\n",
       "    </tr>\n",
       "  </tbody>\n",
       "</table>\n",
       "</div>"
      ],
      "text/plain": [
       "                                 file  \\\n",
       "1458       allen-p/deleted_items/381.   \n",
       "784        allen-p/all_documents/266.   \n",
       "1719  allen-p/discussion_threads/212.   \n",
       "1193        allen-p/all_documents/73.   \n",
       "373           allen-p/_sent_mail/439.   \n",
       "\n",
       "                                                message  \\\n",
       "1458  Message-ID: <26393700.1075862162007.JavaMail.e...   \n",
       "784   Message-ID: <16945.1075855671306.JavaMail.evan...   \n",
       "1719  Message-ID: <19120705.1075855677934.JavaMail.e...   \n",
       "1193  Message-ID: <22565759.1075855667097.JavaMail.e...   \n",
       "373   Message-ID: <14134673.1075855725697.JavaMail.e...   \n",
       "\n",
       "                                            content_str  suspicious_ind  \n",
       "1458  [IMAGE]\\n [IMAGE][IMAGE]       [IMAGE] Yahoo! ...             0.0  \n",
       "784   Kay & Neal,\\n\\nThanks for remembering my birth...             0.0  \n",
       "1719  Attached  are two files that illustrate the fo...             0.0  \n",
       "1193                          Put me down as a reviewer             0.0  \n",
       "373   Jacques,\\n\\nStill trying to close the loop on ...             1.0  "
      ]
     },
     "execution_count": 10,
     "metadata": {},
     "output_type": "execute_result"
    }
   ],
   "source": [
    "rand_set.head()"
   ]
  },
  {
   "cell_type": "markdown",
   "metadata": {},
   "source": [
    "### Rules-Based Labeling from Other Enron Email Studies"
   ]
  },
  {
   "cell_type": "code",
   "execution_count": null,
   "metadata": {
    "collapsed": true
   },
   "outputs": [],
   "source": [
    "# tbd"
   ]
  },
  {
   "cell_type": "markdown",
   "metadata": {},
   "source": [
    "# Topic Modeling"
   ]
  },
  {
   "cell_type": "markdown",
   "metadata": {},
   "source": [
    "## 1. Baseline: K-Means Clustering with Simple N-gram Features"
   ]
  },
  {
   "cell_type": "code",
   "execution_count": 14,
   "metadata": {},
   "outputs": [
    {
     "name": "stdout",
     "output_type": "stream",
     "text": [
      "N-grams shape:  (50000, 168196)\n",
      "N-grams TF-IDF: (50000, 168196)\n"
     ]
    }
   ],
   "source": [
    "# consider longer n-grams\n",
    "transformer = TfidfTransformer()\n",
    "vectorize = CountVectorizer(ngram_range=(1, 2), max_df=.05, min_df=10)\n",
    "n_grams = vectorize.fit_transform(emails_df[\"email_str\"])\n",
    "print(\"N-grams shape: \", n_grams.shape)\n",
    "\n",
    "n_grams_idf = transformer.fit_transform(n_grams)\n",
    "print(\"N-grams TF-IDF:\", n_grams_idf.shape)"
   ]
  },
  {
   "cell_type": "code",
   "execution_count": 15,
   "metadata": {},
   "outputs": [
    {
     "data": {
      "text/plain": [
       "(50000, 168196)"
      ]
     },
     "execution_count": 15,
     "metadata": {},
     "output_type": "execute_result"
    }
   ],
   "source": [
    "# join features\n",
    "#length_sparse = sparse.csr_matrix(emails_df[\"email_length\"]).transpose()\n",
    "# with length feature\n",
    "#feature_vects = sparse.hstack([length_sparse, bow_tfidf, n_grams_idf])\n",
    "#feature_vects = sparse.hstack([bow_tfidf, n_grams_idf])\n",
    "feature_vects = n_grams_idf\n",
    "feature_vects.shape"
   ]
  },
  {
   "cell_type": "markdown",
   "metadata": {},
   "source": [
    "### Fit & Evaluate Simple K-Means Clustering"
   ]
  },
  {
   "cell_type": "code",
   "execution_count": 27,
   "metadata": {},
   "outputs": [
    {
     "data": {
      "text/plain": [
       "KMeans(algorithm='auto', copy_x=True, init='k-means++', max_iter=100,\n",
       "    n_clusters=5, n_init=10, n_jobs=1, precompute_distances='auto',\n",
       "    random_state=None, tol=0.01, verbose=0)"
      ]
     },
     "execution_count": 27,
     "metadata": {},
     "output_type": "execute_result"
    }
   ],
   "source": [
    "# fit k-means (n=4, tol=.01, max_iter=100 takes ~20 mins to train)\n",
    "kmeans = KMeans(n_clusters=5, tol=.01, max_iter=100)\n",
    "kmeans.fit(feature_vects)"
   ]
  },
  {
   "cell_type": "code",
   "execution_count": 28,
   "metadata": {},
   "outputs": [
    {
     "name": "stdout",
     "output_type": "stream",
     "text": [
      "First 30 clusters: [2 2 2 2 2 2 2 2 2 2 2 2 2 2 2 2 2 2 2 2 2 2 2 2 2 2 2 2 2 2]\n",
      "Positive labels:   [2 2 2 2 2]\n"
     ]
    }
   ],
   "source": [
    "# evaluate predictions on positively labeled examples\n",
    "base_preds = kmeans.predict(feature_vects)\n",
    "print(\"First 30 clusters:\", base_preds[:30])\n",
    "print(\"Positive labels:  \", base_preds[list(label_dict.keys())])"
   ]
  },
  {
   "cell_type": "code",
   "execution_count": 29,
   "metadata": {},
   "outputs": [
    {
     "name": "stdout",
     "output_type": "stream",
     "text": [
      "(5, 75864)\n"
     ]
    }
   ],
   "source": [
    "# evaluate closest examples in cluster 2 based on cosine similarity\n",
    "suspicious_ids = np.zeros(len(base_preds))\n",
    "for k in label_dict.keys():\n",
    "    suspicious_ids[k] = label_dict.get(k)\n",
    "\n",
    "# enter index of typical cluster\n",
    "key_cluster = 2\n",
    "\n",
    "cluster_ids = (base_preds==key_cluster).astype(int)\n",
    "\n",
    "features_np = sparse.csr_matrix.todense(feature_vects)\n",
    "\n",
    "labeled_feats = features_np[np.multiply(suspicious_ids, cluster_ids).astype(bool)]\n",
    "print(labeled_feats.shape)"
   ]
  },
  {
   "cell_type": "code",
   "execution_count": 43,
   "metadata": {},
   "outputs": [
    {
     "name": "stdout",
     "output_type": "stream",
     "text": [
      "dict_keys([346, 27091, 373, 13966, 405])\n",
      "(5, 50000)\n",
      "[[21177 31738 39744 13961 11650 15532  7014   966   346  2759]\n",
      " [  985  2779  1893  2769   356   976  1879   373  2787   995]\n",
      " [  357   358  1892  2771   978   977  2820  1855   405  1027]\n",
      " [17248 10977 14371 11429 16116 13982 11606 13966  9998 17433]\n",
      " [20382 19225 29563 21933 27092 30259 24055 31124 27091 20569]]\n",
      "0.164362146998\n"
     ]
    }
   ],
   "source": [
    "# cosine_similarity\n",
    "print(label_dict.keys())\n",
    "cos_sims = cosine_similarity(labeled_feats, feature_vects)\n",
    "print(cos_sims.shape)\n",
    "closest = np.argsort(cos_sims, axis = 1)\n",
    "print(closest[:,-10:])\n",
    "print(cos_sims[1,985])"
   ]
  },
  {
   "cell_type": "code",
   "execution_count": 37,
   "metadata": {},
   "outputs": [
    {
     "data": {
      "text/plain": [
       "\"<s> jacques , the agreement looks fine . </s> <s> my only comment is that george and larry might object to the language that `` the bank that was requested to finance the construction of the project declined to make the loan based on the high costs of the construction of the project '' . </s> <s> <unk> , that bank lowered the loan amount based on lower estimates of <unk> which <unk> the amount of equity that would be required . </s> <s> did i loan them $ DGDGDGDGDGDGDG ? </s> <s> i thought it was less . </s> <s> regarding exhibit a , the assets include : the land , <unk> plans , engineering completed , appraisal , and <unk> study . </s> <s> most of these items are in a state of partial completion by the consultants . </s> <s> i have been speaking directly to the architect , engineer , and <unk> engineer . </s> <s> i am unclear on what is the best way to proceed with these consultants . </s> <s> the obligations should include the fees owed to the consultants above . </s> <s> do we need to list balances due or just list the work completed as an asset and give consideration of $ DGDGDGDG for the cash paid to the engineer and <unk> . </s> <s> phillip </s>\""
      ]
     },
     "execution_count": 37,
     "metadata": {},
     "output_type": "execute_result"
    }
   ],
   "source": [
    "# nearest emails flagged:\n",
    "emails_df.loc[985, \"content_proc\"]"
   ]
  },
  {
   "cell_type": "markdown",
   "metadata": {},
   "source": [
    "## 2. K-Means Clustering using Paragraph Vectors (doc2vec)\n",
    "\n",
    "https://radimrehurek.com/gensim/models/doc2vec.html"
   ]
  },
  {
   "cell_type": "code",
   "execution_count": 9,
   "metadata": {},
   "outputs": [
    {
     "name": "stdout",
     "output_type": "stream",
     "text": [
      "TaggedDocument(['here', 'is', 'our', 'forecast', '<s>'], [0])\n"
     ]
    }
   ],
   "source": [
    "# create tagged documents for model training\n",
    "tagger = gensim.models.doc2vec.TaggedDocument\n",
    "tagged_docs = []\n",
    "for i, email in enumerate(emails_df[\"email_list\"]):\n",
    "    tagged_docs.append(tagger(email, [i]))\n",
    "\n",
    "print(tagged_docs[0])"
   ]
  },
  {
   "cell_type": "code",
   "execution_count": 10,
   "metadata": {},
   "outputs": [
    {
     "name": "stderr",
     "output_type": "stream",
     "text": [
      "C:\\Users\\Colby\\Anaconda3\\lib\\site-packages\\gensim-3.4.0-py3.5-win-amd64.egg\\gensim\\models\\doc2vec.py:366: UserWarning: The parameter `size` is deprecated, will be removed in 4.0.0, use `vector_size` instead.\n",
      "  warnings.warn(\"The parameter `size` is deprecated, will be removed in 4.0.0, use `vector_size` instead.\")\n"
     ]
    }
   ],
   "source": [
    "d2v_model = gensim.models.doc2vec.Doc2Vec(documents=tagged_docs, vector_size = 1000, window = 5, alpha = .01, min_count = 5)"
   ]
  },
  {
   "cell_type": "code",
   "execution_count": 11,
   "metadata": {},
   "outputs": [
    {
     "name": "stdout",
     "output_type": "stream",
     "text": [
      "[(40709, 0.6937914490699768), (40678, 0.6881959438323975), (40849, 0.6868060231208801), (44116, 0.684868574142456), (7543, 0.6820092797279358), (44276, 0.680620014667511), (42515, 0.6795379519462585), (42274, 0.6784195899963379), (40589, 0.6751448512077332), (42558, 0.673206090927124)]\n"
     ]
    }
   ],
   "source": [
    "print(d2v_model.docvecs.most_similar(0))"
   ]
  }
 ],
 "metadata": {
  "kernelspec": {
   "display_name": "Python [default]",
   "language": "python",
   "name": "python3"
  },
  "language_info": {
   "codemirror_mode": {
    "name": "ipython",
    "version": 3
   },
   "file_extension": ".py",
   "mimetype": "text/x-python",
   "name": "python",
   "nbconvert_exporter": "python",
   "pygments_lexer": "ipython3",
   "version": "3.5.3"
  }
 },
 "nbformat": 4,
 "nbformat_minor": 2
}
