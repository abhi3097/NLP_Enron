{
 "cells": [
  {
   "cell_type": "markdown",
   "metadata": {},
   "source": [
    "# Detecting Deception in Enron Emails\n",
    "## 3. Modeling\n",
    "\n",
    "In this notebook, we attempt three methods of clustering and topic modeling, beginning with simple N-gram features, then reducing dimensionality for K-means using paragraph vectoring, or Doc2Vec. We also try variants of Latent Dirichlet Allocation (LDA) to identify sub-topics within emails for comparison to our keyword-targeted labels."
   ]
  },
  {
   "cell_type": "markdown",
   "metadata": {},
   "source": [
    "### 3.0 Libraries and Preprocessed Data\n",
    "\n",
    "Preprocessed data generated in prior workbook: https://github.com/colbycarter/NLP_Enron/blob/master/Enron_emails_PREPROCESSING.ipynb"
   ]
  },
  {
   "cell_type": "code",
   "execution_count": 1,
   "metadata": {},
   "outputs": [
    {
     "name": "stderr",
     "output_type": "stream",
     "text": [
      "C:\\Users\\Colby\\Anaconda3\\lib\\site-packages\\gensim-3.4.0-py3.5-win-amd64.egg\\gensim\\utils.py:1197: UserWarning: detected Windows; aliasing chunkize to chunkize_serial\n",
      "  warnings.warn(\"detected Windows; aliasing chunkize to chunkize_serial\")\n"
     ]
    }
   ],
   "source": [
    "from __future__ import print_function\n",
    "from __future__ import division\n",
    "\n",
    "import os, sys\n",
    "import collections\n",
    "import re\n",
    "\n",
    "import numpy as np\n",
    "import pandas as pd\n",
    "import matplotlib.pyplot as plt\n",
    "import random\n",
    "from collections import Counter\n",
    "import timeit\n",
    "\n",
    "import email\n",
    "import nltk\n",
    "from nltk.tokenize.treebank import TreebankWordTokenizer\n",
    "from nltk.tokenize import sent_tokenize\n",
    "from nltk.tokenize import RegexpTokenizer\n",
    "from scipy import sparse, hstack\n",
    "from sklearn.feature_extraction.text import *\n",
    "from sklearn.cluster import KMeans\n",
    "from sklearn.metrics.pairwise import cosine_similarity\n",
    "# run 'easy_install -U gensim' to install gensim and then re-launch jupyter notebook\n",
    "import gensim\n",
    "\n",
    "\n",
    "# Helper libraries\n",
    "import constants\n",
    "import utils\n",
    "import vocabulary"
   ]
  },
  {
   "cell_type": "markdown",
   "metadata": {},
   "source": [
    "### Load Preprocessed Dataset"
   ]
  },
  {
   "cell_type": "code",
   "execution_count": 2,
   "metadata": {},
   "outputs": [
    {
     "name": "stdout",
     "output_type": "stream",
     "text": [
      "(517401, 4)\n"
     ]
    },
    {
     "data": {
      "text/html": [
       "<div>\n",
       "<style>\n",
       "    .dataframe thead tr:only-child th {\n",
       "        text-align: right;\n",
       "    }\n",
       "\n",
       "    .dataframe thead th {\n",
       "        text-align: left;\n",
       "    }\n",
       "\n",
       "    .dataframe tbody tr th {\n",
       "        vertical-align: top;\n",
       "    }\n",
       "</style>\n",
       "<table border=\"1\" class=\"dataframe\">\n",
       "  <thead>\n",
       "    <tr style=\"text-align: right;\">\n",
       "      <th></th>\n",
       "      <th>file</th>\n",
       "      <th>email_list</th>\n",
       "      <th>email_str</th>\n",
       "      <th>suspicious_ind</th>\n",
       "    </tr>\n",
       "  </thead>\n",
       "  <tbody>\n",
       "    <tr>\n",
       "      <th>0</th>\n",
       "      <td>allen-p/_sent_mail/1.</td>\n",
       "      <td>[here, is, our, forecast, &lt;s&gt;]</td>\n",
       "      <td>here is our forecast &lt;s&gt;</td>\n",
       "      <td>0.0</td>\n",
       "    </tr>\n",
       "    <tr>\n",
       "      <th>1</th>\n",
       "      <td>allen-p/_sent_mail/10.</td>\n",
       "      <td>[traveling, to, have, a, business, meeting, ta...</td>\n",
       "      <td>traveling to have a business meeting takes the...</td>\n",
       "      <td>0.0</td>\n",
       "    </tr>\n",
       "    <tr>\n",
       "      <th>2</th>\n",
       "      <td>allen-p/_sent_mail/100.</td>\n",
       "      <td>[test, successful, &lt;s&gt;, way, to, go, !, !, &lt;s&gt;...</td>\n",
       "      <td>test successful &lt;s&gt; way to go ! ! &lt;s&gt; ! &lt;s&gt;</td>\n",
       "      <td>0.0</td>\n",
       "    </tr>\n",
       "    <tr>\n",
       "      <th>3</th>\n",
       "      <td>allen-p/_sent_mail/1000.</td>\n",
       "      <td>[randy, can, you, send, me, a, schedule, of, t...</td>\n",
       "      <td>randy can you send me a schedule of the salary...</td>\n",
       "      <td>0.0</td>\n",
       "    </tr>\n",
       "    <tr>\n",
       "      <th>4</th>\n",
       "      <td>allen-p/_sent_mail/1001.</td>\n",
       "      <td>[let, 's, shoot, for, tuesday, at, DGDG:DGDG, ...</td>\n",
       "      <td>let 's shoot for tuesday at DGDG:DGDG &lt;s&gt;</td>\n",
       "      <td>0.0</td>\n",
       "    </tr>\n",
       "  </tbody>\n",
       "</table>\n",
       "</div>"
      ],
      "text/plain": [
       "                       file  \\\n",
       "0     allen-p/_sent_mail/1.   \n",
       "1    allen-p/_sent_mail/10.   \n",
       "2   allen-p/_sent_mail/100.   \n",
       "3  allen-p/_sent_mail/1000.   \n",
       "4  allen-p/_sent_mail/1001.   \n",
       "\n",
       "                                          email_list  \\\n",
       "0                     [here, is, our, forecast, <s>]   \n",
       "1  [traveling, to, have, a, business, meeting, ta...   \n",
       "2  [test, successful, <s>, way, to, go, !, !, <s>...   \n",
       "3  [randy, can, you, send, me, a, schedule, of, t...   \n",
       "4  [let, 's, shoot, for, tuesday, at, DGDG:DGDG, ...   \n",
       "\n",
       "                                           email_str  suspicious_ind  \n",
       "0                           here is our forecast <s>             0.0  \n",
       "1  traveling to have a business meeting takes the...             0.0  \n",
       "2        test successful <s> way to go ! ! <s> ! <s>             0.0  \n",
       "3  randy can you send me a schedule of the salary...             0.0  \n",
       "4          let 's shoot for tuesday at DGDG:DGDG <s>             0.0  "
      ]
     },
     "execution_count": 2,
     "metadata": {},
     "output_type": "execute_result"
    }
   ],
   "source": [
    "# test import; runtime ~2 minutes for full set\n",
    "# ENTER PATH FOR IMPORT AND EXPORT\n",
    "path = 'C:/Users/Colby/Documents/Berkeley/266_NLP/final_project/data'\n",
    "emails_df = pd.read_pickle(path + '/cleaned_emails.pkl')\n",
    "print(emails_df.shape)\n",
    "emails_df.head()"
   ]
  },
  {
   "cell_type": "markdown",
   "metadata": {},
   "source": [
    "### Functions for Evaluating Emails Nearest Labeled Examples"
   ]
  },
  {
   "cell_type": "code",
   "execution_count": 75,
   "metadata": {
    "collapsed": true
   },
   "outputs": [],
   "source": [
    "def tfidf_fct(data, N_gram, max_df=.01, min_df=5):\n",
    "    \"\"\"Return tf-idf N-gram vectors\"\"\"\n",
    "    transformer = TfidfTransformer()\n",
    "    vectorize = CountVectorizer(ngram_range=(1, N_gram), max_df=max_df, min_df=min_df)\n",
    "    n_grams = vectorize.fit_transform(data[\"email_str\"])\n",
    "    n_grams_idf = transformer.fit_transform(n_grams)\n",
    "    print(\"N-grams TF-IDF:\", n_grams_idf.shape)\n",
    "    print(type(n_grams_idf))\n",
    "    return n_grams_idf\n",
    "\n",
    "def k_preds(data, feats, kmeans):\n",
    "    \"\"\"predict cluster of emails using an initialized k-means object\"\"\"\n",
    "    base_preds = kmeans.predict(feats)\n",
    "    print(\"Cluster counts:\", Counter(base_preds))\n",
    "\n",
    "    # GET IDS OF POSITIVE LABELS\n",
    "    positive_labels = data[data[\"suspicious_ind\"]==1]\n",
    "    #print(\"pos labs:\", positive_labels)\n",
    "    labeled_ids = positive_labels.index.values\n",
    "\n",
    "    print(\"Positive labels:\\n\", Counter(base_preds[data[\"suspicious_ind\"]==1]))\n",
    "    return base_preds, positive_labels, labeled_ids\n",
    "\n",
    "def get_labels(data, features, preds, key_cluster, labeled_ids):\n",
    "    \"\"\"get feature set for the labeled examples in a cluster key_cluster\"\"\"\n",
    "    # enter index of typical cluster\n",
    "    ids = []\n",
    "    for i in labeled_ids:\n",
    "        if preds[i] == key_cluster:\n",
    "            ids.append(i)\n",
    "    print(\"Label IDs in selected cluster:\\n\", ids)\n",
    "    cluster_ids = (preds==key_cluster).astype(int)\n",
    "    labeled_feats = features[np.multiply(np.array(data[\"suspicious_ind\"]), cluster_ids).astype(bool)]\n",
    "    print(\"Labeled feature shape:\", labeled_feats.shape)\n",
    "    return labeled_feats\n",
    "\n",
    "# cosine_similarity\n",
    "def top_cos_sims(labeled_feats, features):\n",
    "    \"\"\"evaluate closest examples in example cluster based on cosine similarity\"\"\"\n",
    "    cos_sims = cosine_similarity(labeled_feats, features)\n",
    "    print(\"Cosign similarities shape:\", cos_sims.shape)\n",
    "    closest_args = np.argsort(cos_sims, axis = 1)[:,-12:-6]  #closest 6 examples, ignoring possible repeats\n",
    "    print(\"Top 6 closest emails (IDs, right-to-left):\\n\", closest_args)\n",
    "    print()\n",
    "    print(\"Top 6 largest cos-sims in cluster:\")\n",
    "    for example in range(cos_sims.shape[0]):\n",
    "        print(cos_sims[example, closest_args[example,:]])"
   ]
  },
  {
   "cell_type": "markdown",
   "metadata": {},
   "source": [
    "## 3.1 Baseline: K-Means Clustering with BOW Features\n",
    "\n",
    "Using a random sample of only 50,000 emails to reduce dimensions in and run-time of baseline model."
   ]
  },
  {
   "cell_type": "code",
   "execution_count": 3,
   "metadata": {},
   "outputs": [
    {
     "name": "stdout",
     "output_type": "stream",
     "text": [
      "Mini shape: (50000, 4)\n"
     ]
    }
   ],
   "source": [
    "# ENTER number of rows for training; NONE if using all\n",
    "num_rows = 50000\n",
    "use_full = False\n",
    "\n",
    "if use_full == False:\n",
    "    random.seed(24)\n",
    "    rand_ids = random.sample(range(0, emails_df.shape[0]), num_rows)\n",
    "    mini_df = emails_df.loc[rand_ids,]\n",
    "    print(\"Mini shape:\", mini_df.shape)"
   ]
  },
  {
   "cell_type": "code",
   "execution_count": 66,
   "metadata": {},
   "outputs": [
    {
     "name": "stdout",
     "output_type": "stream",
     "text": [
      "N-grams TF-IDF: (50000, 37082)\n",
      "<class 'scipy.sparse.csr.csr_matrix'>\n"
     ]
    }
   ],
   "source": [
    "n_grams_idf = tfidf_fct(mini_df, 1, .01, 5)"
   ]
  },
  {
   "cell_type": "code",
   "execution_count": 17,
   "metadata": {},
   "outputs": [
    {
     "data": {
      "text/plain": [
       "KMeans(algorithm='auto', copy_x=True, init='k-means++', max_iter=30,\n",
       "    n_clusters=6, n_init=10, n_jobs=1, precompute_distances='auto',\n",
       "    random_state=None, tol=0.01, verbose=0)"
      ]
     },
     "execution_count": 17,
     "metadata": {},
     "output_type": "execute_result"
    }
   ],
   "source": [
    "# fit k-means (n=4, tol=.01, max_iter=100 takes ~20 mins to train)\n",
    "kmeans = KMeans(n_clusters=6, tol=.01, max_iter=30)\n",
    "kmeans.fit(n_grams_idf)"
   ]
  },
  {
   "cell_type": "code",
   "execution_count": 111,
   "metadata": {},
   "outputs": [
    {
     "name": "stdout",
     "output_type": "stream",
     "text": [
      "Cluster counts: Counter({0: 48248, 1: 510, 2: 395, 4: 347, 3: 292, 5: 208})\n",
      "Positive labels: Counter({0: 3})\n"
     ]
    }
   ],
   "source": [
    "# evaluate predictions on positively labeled examples\n",
    "base_preds, positive_labels, labeled_ids = k_preds(mini_df, n_grams_idf, kmeans)"
   ]
  },
  {
   "cell_type": "markdown",
   "metadata": {},
   "source": [
    "Using simple unigram features leads to a very unbalanced K-means clustering, with over 96% of sampled examples falling in the same cluster, even after preprocessing and limiting length of emails. Because of this, we will want to generate stronger features with lower dimensionality that generalize better."
   ]
  },
  {
   "cell_type": "code",
   "execution_count": 94,
   "metadata": {},
   "outputs": [
    {
     "name": "stdout",
     "output_type": "stream",
     "text": [
      "(3, 37082)\n",
      "(3, 50000)\n",
      "[[20023 30012 33765 24618 41249]\n",
      " [ 6763 34919  7488   142 10145]\n",
      " [26596  4460   561 11264 16541]]\n",
      "[ 0.52720321  0.52720321  0.53289646  0.54345702  0.5770474 ]\n",
      "[ 0.45147323  0.46390951  0.6663603   0.73649271  0.80389285]\n",
      "[ 0.26537967  0.34106605  0.35264769  0.47085026  0.9844188 ]\n"
     ]
    }
   ],
   "source": [
    "labeled_feats = get_labels(mini_df, n_grams_idf, base_preds, 0)\n",
    "top_cos_sims(labeled_feats, n_grams_idf)"
   ]
  },
  {
   "cell_type": "code",
   "execution_count": 95,
   "metadata": {},
   "outputs": [
    {
     "data": {
      "text/plain": [
       "\"fyi guys -original message - from : shelton tom sent : thursday may DGDG DGDGDGDG DGDG:DGDG am to : schneider steve hpl ; simunek jack ; cocavessis nick ; soldano louis ; nutt david ; purvis kyle subject : grandfathered facilities - endangered species with no prospects o f protection fyi <s> who else needs to know ? <s> i am sure this will be discussed at length at the next intrastate pipeline association meeting on june DGDG ( to be hosted by redmond at enron's/hpl 's offices ) <s> by tom shelton/hou/ect on DGDG/DGDG/DGDGDGDG DGDG:DGDG am - '' dees allan w ( skip ) '' < deesaw texaco.com > on DGDG/DGDG/DGDGDGDG DGDG:DGDG:DGDG am to : `` 'jan l laughlin ' '' < jlaughl ppco.com > bsebree txoga.org robert.gardner lyondell-citgo.com robert.morris coastalcorp.com brett.kriley fina.com barnardc kochind.com chris.matthews lyondell-citgo.com cmorphew txoga.org cindy morphew < cindy_morphew ppco.com > dan f hunter < dfhunte ppco.com > dan_j_horton email.mobil.com dhays crowncentral.com kaysene kochind.com '' kazimi faheem m. '' < faheem.kazimi lyondell-citgo.com > gene.meyer coastalcorp.com broughjw bp.com jerry.barnhill clarkusa.com almarazj valero.com joe kaufman < jwkaufm ppco.com > johnny casmore < johnny_casmore email.mobil.com > ken rigsbee < hkrigsb ppco.com > khalid.muslih coastalcorp.com ruckerl valero.com matt_hodges udscorp.com smmb chevron.com morris.carter clarkusa.com namoyer shellus.com renfron valero.com pat.spillman fina.com patrick.binkley elpaso.com pvrazel citgo.com `` hewitt richard rw scc '' < rh723321 msxscc.shell.com > rmnolan exxon.com skvining mapllc.com mooress1 bp.com terry.soule coastalcorp.com james.e.murray exxonmobil.com `` dees allan w ( skip ) '' < deesaw texaco.com > lgbl chevron.com `` carter patricia a [ newcos ] '' < pacarter equilon.com > `` 'kkba chevron.com ' '' < kkba chevron.com > `` dees allan w ( skip ) '' < deesaw texaco.com > bsebree txoga.org `` broussard c g [ newcos ] '' < cgbroussard equilon.com > carolyn.pharr elpaso.com cindy eden.com cmorphew txoga.org cortezn epenergy.com d_m_minielly sunoil.com dcgillj ppco.com dewl chevron.com edith_f_coen sunoil.com efdauterive mapllc.com emcampbell marathonoil.com fored epenergy.com hagutierrez marathonoil.com jeff.ivy williams.com joel.larkin exxon.com john_greer kindermorgan.com jrichardson akingump.com khalid.muslih coastalcorp.com laura.k.sleevi exxonmobil.com ljdreyfuss paalp.com martin.allday coastalcorp.com mgbo chevron.com mphilli enron.com mustardg bp.com rbishop duke-energy.com rljames unocal.com sema ppco.com swhitehe colpipe.com tom.sellers usa.conoco.com tom.shelton enron.com westr epenergy.com wmou chevron.com wnikolis teppco.com ztcclwc mail.arco.com ztcklb mail.arco.com cc : subject : grandfathered facilities - endangered species with no prospects o f protection to txoga refinery environmental and pipeline committees -original message - from : dees allan w ( skip ) sent : thursday may DGDG DGDGDGDG DG:DGDG am to : 'morphew cindy ( txoga ) ' ; 'miksa mary ( tabcc ) ' ; 'romero celina ( clark thomas winters ) ' ; 'jrandall tnrcc.state.tx.us ' ; 'jteib trncc.state.tx.us ' ; 'mills alex ( ntoga ) ' ; 'stevens bill ( wctoga ) ' ; 'hughes wayne ( pproa ) ' ; 'burns morris ( pbpa ) ' ; 'fleming martin ( tipro ) ' ; wade foster l ; abernathy linda ( el paso natural gas ) ; adamson terry ( bp amoco ) ; aliberti marilena ( shell western e & p ) ; anderson lisa ; blossom stanley ( kerr mcgee ) ; braun-fishman karla ( santa fe energy res <s> ) ; broussard gweneyette ( equilon ) ; butler donald ( hunt oil ) ; cavazos hector ( chevron ) ; cortez naomi ( el paso natural gas ) ; d'attilio wendy ( el paso energy ) ; davis frank ( anadarko ) ; de nicola mike ( chevron pipeline ) ; dees allan w. ( skip ) ; dorsey gina ( kindermorgan ) ; dougherty barbara ( devon energy ) ; dover wilbur ( pioneer ) ; emery dave ( phillips ) ; fish marilyn ( eog resources ) ; frederick bubba ( spirit energy/unocal ) ; galusky peter ( marathon ) ; garcia irene ( exxonmobil ) ; gillen darrell ( williams prod ) ; golemon r kinnan ( bmoh ) ; greer john ( kn energy ) ; gutierrez hugo a <s> ( marathon ) ; hathaway david c. ( phillips petroleum ) ; hutson margaret ( conoco ) ; hutton nina ( cross timbers oil co. ) ; knoeller craig ( exxon ) ; kriter kurt ( amerada hess ) ; landry-huey traci ( phillips petr <s> ) ; laughlin jan ( phillips ) ; leblanc david j. ; maddox scott ( phillips pipeline ) ; malter paul ( burlington ) ; mangels lynn d ; martinez rosemary ( amoco ) ; mccay r. scott ; milliet michael p. ; montgomery gene ( oxy permian ) ; moore susan ( bp-amoco ) ; muslih khalid ( coastal ) ; nolan r. m. ( exxon ) ; pachulski jim ( crescendo resources ) ; parra alvaro ( williams energy services ) ; phillips marc ( enron pipeline ) ; portz bruce ( western gas resources ) ; riddle mark ( hunt petroleum ) ; sandilos bob ( chevron u.s.a. ) ; searle dave ( marathon ) ; sebree ben ( txoga ) ; sellars don ( chevron ) ; sellers tom ( conoco ) ; smith michael ( chevron ) ; sorel kesner ( duke energy ) ; starrett mike ( altura energy ) ; stephenson mark ( mitchell ) ; templet david ( mitchell ) ; travis lynn ( devon energy corp ) ; wadsworth david ( maxus energy ) ; waisanen peggy ( oxy permian ) ; wilhelm jack ( mobil oil corp ) ; wilson pamela ( exxonmobil ) ; wolford cheryl ( teppco ) ; zygmunt r. w. ( shell offshore ) cc : hall larry r ; mire kerry a ; head james a ; botes peter j ; turner kim a ; hoover clay r ; smith todd m ; harvey ralph v ; dibble john t ; chisholm duane n ; milliet michael p ; boswell jerry c ; lee arthur ; wenker judith a ; montgomery kathy a ; padon linda d ; palmer frederick b ; demeter rebecca m [ newcos ] ; demeter rebecca m. [ star ] ; wimberley william f [ newcos ] ; wimberley william f. [ star ] ; 'thurman jr ( james ) ' subject : grandfathered facilities - endangered species with no prospects of protection the days of grandfathered facilities in texas are numbered <s> this does not only mean those large facilities in nonattainment areas but any facility that was constructed prior to september DGDGDGDG and has not subsequently been rolled into some sort of new source review ( nsr ) permit or permit by rule ( formerly standard exemption ) <s> note that proposed new rules recently published in the texas register for public comment will require operators to be able to produce documentation of applicability and compliance for all facilities authorized by a permit by rule/standard exemption much the same as is required for any other type of permit <s> the tnrcc sunset bill contains language limiting the time that such facilities may operate without nsr authorization of some sort <s> the senate committee substitute ( scs ) for hb DGDGDGDG is a little stricter than the version passed by the house but both versions did contain grandfathered facility permitting provisions and it is safe to assume that the final version will also <s> if this version passes you will have one additional year to apply for a voluntary emissions reduction permit ( verp ) <s> if your facility is a pipeline facility the tnrcc will require no more than a DGDG % reduction in nox and that reduction can be averaged for several facilities in the same area covered in one permit <s> note that it is only through the efforts of our lobbyists - particularly cindy morphew of txoga and celina romero of atingp - that it looks as though we will get an additional opportunity to get these facilities permitted without having to use today 's bact <s> this memo summarizes the scs provisions for your information <s> this is not actual bill language - i 've tried to make it easier to read <s> note that these provisions may be changed somewhat if the house does not concur in all of the changes made by the senate and the bill goes to conference <s> in addition we expect a strong attempt to amend the bill on the senate floor to require shutdown on september DG DGDGDGDG of grandfathered facilities that do not have a pending permit application <s> if that attempt is successful the opportunity to apply for a verp will be gone on september DG. the memo also recaps previous recommendations to you regarding the current opportunity to claim historical permits by rule ( standard exemptions ) as a means of permitting a grandfathered facility <s> i am not certain how long this opportunity will continue to exist <s> take advantage of it while you can <s> in addition i 've appended some information on 10-year old bact for gas-fired ic engines and turbines that might be useful if you are trying to get a verp now <s> provisions of scs for hb DGDGDGDG ( prior to senate floor debate ) sec <s> DGDGDG.DGDGDGDGDG. permit required <s> ( a ) any grandfathered facility that does not have an application pending for a new source review permit or other authorization other than a federal operating permit and that has not submitted a notice of shutdown as provided in section DGDGDG.DGDGDGDGDG may not emit air contaminants on or after : ( DG ) september DG DGDGDGDG if the facility is located in a nonattainment area ; or ( DG ) september DG DGDGDGDG if the facility is located in an attainment area <s> ( b ) any grandfathered facility that does not have a permit or other authorization under this chapter other than a federal operating permit permit may not emit air contaminants on or after : ( DG ) september DG DGDGDGDG if the facility is located in a nonattainment area ; or ( DG ) september DG DGDGDGDG if the facility is located in an attainment area <s> ( c ) facilities eligible for a small business stationary source permit are subject to the permitting deadlines in section DGDGDG.DGDGDGDGDG. sec <s> DGDGDG.DGDGDGDGDG. notice of shutdown <s> ( a ) a notice of shutdown to allow operation of a grandfathered facility beyond the deadlines of DGDGDG.DGDGDGDGDG ( a ) must be filed with the commission before the applicable deadline <s> ( b ) a notice under this section shall include : ( DG ) the date the facility intends to cease operating ; ( DG ) an inventory of the type and amount of emissions that will be eliminated when the facility ceases to operate ; and ( DG ) any other necessary and relevant information the commission by rule deems appropriate <s> general provisions ( applicable to permits under DGDGDG.DGDGDGDGDG DGDGDG.DGDGDGDGDG and DGDGDG.DGDGDGDGDG ) ( a ) the commission shall grant a permit under this section if from the information available to the commission including information presented at any public hearing or through written comment the commission finds that there is no indication that the emissions from the facility will contravene the intent of this chapter including protection of the public 's health and physical property <s> ( b ) if the commission finds that the emissions from the facility will not comply with subsection ( c ) the commission may not grant the permit under this section <s> ( c ) a person planning the modification of a facility previously permitted under this section must comply with new source permitting requirements before modifying <s> ( d ) the commission may adopt rules as necessary to implement and administer this section <s> ( e ) if an applicant omits any relevant facts or submits incorrect information in an application the applicant shall submit the relevant facts or correct the information no later than DGDG days after discovering the error <s> if while processing the application the commission determines that additional information is necessary to evaluate or to take final action on the application the commission may request the information and set a reasonable deadline for a response <s> failure to comply with the deadline for the response will result in the application being returned to the applicant <s> sec <s> DGDGDG.DGDGDGDGDG. existing facility permit <s> ( a ) the owner or operator of a grandfathered facility may apply for a permit to operate the facility under this section <s> ( b ) the commission shall grant a permit under this section if from the information available to the commission including information presented at any public hearing or through written comment the commission finds that the application : ( DG ) is filed before september DG DGDGDGDG and the facility will use an air pollution control method at least as effective as 10-year old bact ; or ( DG ) is filed before the applicable deadline of DGDGDG.DGDGDGDGDG ( a ) and the facility will use current bact <s> ( c ) the commission may issue an existing facility flexible permit for some or all of the grandfathered facilities at a site <s> permits issued under this subsection shall follow the same permit issuance modification and renewal procedures as existing facility permits <s> sec <s> DGDGDG.DGDGDGDGDG. small business stationary source permit <s> ( a ) grandfathered facilities that are located at a small business stationary source and are not required by commission rule to submit an annual emissions inventory report may apply for a permit under this section before september DG DGDGDGDG <s> ( b ) grandfathered facilities that are located at a small business stationary source that does not have an application pending for a new source review permit or other authorization other than a federal operating permit and that has not submitted a notice of shutdown may not emit air contaminants on or after september DG DGDGDGDG. sec <s> DGDGDG.DGDGDGDGDG. electric generating facility permit <s> special provisions for permitting grandfathered electric generating facilities are not outlined in this memo <s> sec <s> DGDGDG.DGDGDGDGDG. authorization for pipeline facilities <s> ( a ) the commission by rule shall establish the procedures for applications for grandfathered processing treating compression or pumping facilities connected to or part of a gathering or transmission pipeline <s> ( b ) based on a prioritization by the commission as necessary to meet local regional and statewide air quality needs related directly or indirectly to federal air quality standards the commission may require up to a DGDG % reduction of the hourly emission rates of nox and voc from reciprocating internal combustion engines subject to this section <s> for facilities other than reciprocating internal combustion engines that are connected to or part of a gathering or transmission pipeline the commission may consider requiring hourly emissions rate reductions of up to DGDG % for nox and DGDG % for voc <s> the commission by rule may designate counties or regions of the state where greater reductions in the hourly emission rate will be required than in other areas but no more than DGDG percent reductions in the hourly rate may be required in any area <s> ( c ) the commission shall : ( DG ) allow for a single permit for all facilities connected to or part of a gathering or transmission pipeline ; ( DG ) allow for required reductions for facilities under this section to be achieved at one facility or averaged among more than one facility and located in the same local regional or statewide areas designated by the commission under subsection ( b ) ; ( DG ) for purposes of emission averaging allow emission reductions achieved from grandfathered since september DG DGDGDGDG ; and ( DG ) allow an owner or operator to apply for separate permits under this section for discrete and separate facilities connected to or part of a gathering or transmission pipeline <s> ( d ) facilities authorized by this section shall be considered permitted under this chapter <s> current opportunity to claim a permit by rule to `` permit '' a grandfathered facility tnrcc has interpreted its rules to allow operators to permit grandfathered facilities using any applicable `` permit by rule '' including those previously referred to as standard exemptions <s> for instance old standard exemption DG effective may DG DGDGDGDG was for `` gas fired internal combustion engines of less than DGDGDGDG hp and engine trains of less than DGDGDGDG hp total '' and can be used to permit any such engine ( s ) <s> for clarification on this particular exemption the language used by staff in proposing this exemption to the texas air control board in DGDGDGDG was as follows : `` engines smaller than DGDGDGDG hp are quite numerous and are not considered a substantial source unless joined together in series ( emphasis added ) to form an engine train <s> engine trains of less than DGDGDGDG hp are not considered a substantial source <s> because control technology for nox emissions from internal combustion and gas fired engines is very limited it is doubtful if significant control could be achieved through the permit system at this time '' <s> ( `` exemptions from permits procedures and justification for exemptions '' < signed > charles r. barden p.e. executive secretary texas air control board may DG DGDGDGDG ) <s> a list of the `` historical standard exemptions '' is available on the tnrcc website at : < : > <s> in applying these `` permits by rule '' be sure to check the corresponding '' exemption preambles '' ( if any ) for any applicable general conditions <s> tnrcc has asked that we document such permitting of grandfathered facilities by pi-8 and a simple notification cover letter to them so that they will have a record that the facilities have been permitted and are no longer considered to be grandfathered <s> the registration will buy you a letter of acknowledgement that you have claimed the `` permit by\""
      ]
     },
     "execution_count": 95,
     "metadata": {},
     "output_type": "execute_result"
    }
   ],
   "source": [
    "# nearest emails flagged:\n",
    "emails_df.loc[41249, \"email_str\"]"
   ]
  },
  {
   "cell_type": "markdown",
   "metadata": {},
   "source": [
    "## 3.2 K-Means Clustering using Paragraph Vectors (doc2vec)\n",
    "\n",
    "Gensim documentation: https://radimrehurek.com/gensim/models/doc2vec.html\n",
    "\n",
    "Also see: https://stackoverflow.com/questions/41709318/what-is-gensims-docvecs"
   ]
  },
  {
   "cell_type": "code",
   "execution_count": 4,
   "metadata": {
    "collapsed": true
   },
   "outputs": [],
   "source": [
    "# create tagged documents for model training\n",
    "def tag_docs(data):\n",
    "    tagger = gensim.models.doc2vec.TaggedDocument\n",
    "    tagged_docs = []\n",
    "    for i, email in enumerate(data[\"email_list\"]):\n",
    "        tagged_docs.append(tagger(email, [i]))\n",
    "    return tagged_docs"
   ]
  },
  {
   "cell_type": "code",
   "execution_count": 5,
   "metadata": {},
   "outputs": [
    {
     "name": "stdout",
     "output_type": "stream",
     "text": [
      "Time to train doc2vec features (sec): 0.0026673772301659612\n"
     ]
    }
   ],
   "source": [
    "start = time.time()\n",
    "\n",
    "#convert emails to tagged-documents\n",
    "tagged_docs = tag_docs(emails_df)\n",
    "\n",
    "#train doc2vec model\n",
    "# 30 mins with full df and size = 1000\n",
    "doc_model = gensim.models.doc2vec.Doc2Vec(documents=tagged_docs, vector_size = 2000, window = 5, alpha = .01, min_count = 5)\n",
    "\n",
    "doc_model.save(\"doc_model\")\n",
    "doc_model.delete_temporary_training_data(keep_doctags_vectors=True, keep_inference=True)\n",
    "\n",
    "end = time.time()\n",
    "print(\"Time to train doc2vec features:\", end - start)"
   ]
  },
  {
   "cell_type": "code",
   "execution_count": 6,
   "metadata": {
    "scrolled": true
   },
   "outputs": [
    {
     "name": "stdout",
     "output_type": "stream",
     "text": [
      "(517401, 2000)\n",
      "[(501419, 0.9149469137191772), (513132, 0.9130669236183167), (502172, 0.9125531911849976), (515889, 0.9115132093429565), (500725, 0.9107814431190491), (465277, 0.9106547236442566), (490806, 0.9105073809623718), (5860, 0.9104685187339783), (517379, 0.9103668928146362), (501190, 0.9102362990379333)]\n"
     ]
    }
   ],
   "source": [
    "#re-load model, if necessary\n",
    "#doc_model = Doc2Vec.load(fname)\n",
    "doc_feats = doc_model.docvecs.vectors_docs\n",
    "print(doc_feats.shape)\n",
    "print(doc_model.docvecs.most_similar(0))"
   ]
  },
  {
   "cell_type": "code",
   "execution_count": 7,
   "metadata": {},
   "outputs": [
    {
     "name": "stdout",
     "output_type": "stream",
     "text": [
      "Time to train K-means (sec): 0.0012040107376378728\n"
     ]
    }
   ],
   "source": [
    "start = time.time()\n",
    "\n",
    "kmeans_doc = KMeans(n_clusters=8, tol=.01, max_iter=30)\n",
    "kmeans_doc.fit(doc_feats)\n",
    "\n",
    "end = time.time()\n",
    "print(\"Time to train K-means:\", end - start)"
   ]
  },
  {
   "cell_type": "code",
   "execution_count": 31,
   "metadata": {
    "scrolled": true
   },
   "outputs": [
    {
     "name": "stdout",
     "output_type": "stream",
     "text": [
      "Cluster counts: Counter({1: 194158, 0: 149865, 4: 99500, 6: 48369, 3: 11537, 7: 6674, 2: 5305, 5: 1993})\n",
      "Positive labels: Counter({1: 7, 6: 7, 0: 6, 4: 6, 2: 2, 7: 1})\n"
     ]
    }
   ],
   "source": [
    "base_preds, pos_labels, labeled_ids = k_preds(emails_df, doc_feats, kmeans_doc)"
   ]
  },
  {
   "cell_type": "code",
   "execution_count": 76,
   "metadata": {},
   "outputs": [
    {
     "name": "stdout",
     "output_type": "stream",
     "text": [
      "Label IDs in selected cluster:\n",
      " [346, 373, 441, 908, 13966, 27091, 272962]\n",
      "Labeled feature shape: (7, 2000)\n",
      "\n",
      "Cosign similarities shape: (7, 517401)\n",
      "Top 6 closest emails (IDs, right-to-left):\n",
      " [[366912 513996 461340 499861 264595 511116]\n",
      " [312740 487856 418827 480303   6176 371512]\n",
      " [ 80508 231933 157429  73639  64328   1701]\n",
      " [ 63463 228829 490916 231933    931   2684]\n",
      " [511177 507662 509210 452228 490315 510971]\n",
      " [ 17533  38183 103354 297044  39916  20569]\n",
      " [441352 441410  96898 444951   4982 364851]]\n",
      "\n",
      "Top 6 largest cos-sims in cluster:\n",
      "[ 0.82134473  0.8216998   0.82204467  0.82257271  0.82276487  0.82367671]\n",
      "[ 0.65782952  0.65874618  0.66151214  0.66195118  0.66215014  0.66228801]\n",
      "[ 0.61164916  0.61336386  0.61661243  0.64438927  0.66188645  0.66256636]\n",
      "[ 0.54174334  0.54177338  0.54239058  0.56461418  0.59397316  0.63584793]\n",
      "[ 0.7512908   0.75281316  0.75344026  0.75517952  0.75697309  0.75749117]\n",
      "[ 0.38063788  0.38182178  0.38206846  0.38262337  0.3882415   0.52308619]\n",
      "[ 0.60887343  0.61232483  0.61519986  0.61742562  0.62158668  0.621876  ]\n"
     ]
    }
   ],
   "source": [
    "labeled_feats = get_labels(emails_df, doc_feats, base_preds, 1, labeled_ids)\n",
    "print()\n",
    "top_cos_sims(labeled_feats, doc_feats)"
   ]
  },
  {
   "cell_type": "code",
   "execution_count": 68,
   "metadata": {},
   "outputs": [
    {
     "name": "stdout",
     "output_type": "stream",
     "text": [
      "Positive labeled email:\n"
     ]
    },
    {
     "data": {
      "text/plain": [
       "\"phillip to the extent that we can give chair hoecker our spin on the reasons for the hikes we would like to <s> the commission is getting calls from legislators doe etc <s> about the prices and is going to have to provide some response <s> better if it coincides with enron 's view and is not anti-market <s> we still have n't decided what we will provide <s> you definitely will be included in that discussion once we get the numbers from accounting <s> thanks <s> from : phillip k allen DGDG/DGDG/DGDGDGDG DGDG:DGDG pm to : christi l nicolay/hou/ect ect cc : subject : talking points about california gas market christy i read these points and they definitely need some touch up <s> i do n't understand why we need to give our commentary on why prices are so high in california <s> this subject has already gotten so much press <s> phillip by phillip k allen/hou/ect on DGDG/DGDG/DGDGDGDG DGDG:DGDG pm - from : leslie lawner enron on DGDG/DGDG/DGDGDGDG DGDG:DGDG am cst to : christi l nicolay/hou/ect ect joe hartsoe/corp/enron enron rebecca w cantrell/hou/ect ect ruth concannon/hou/ect ect stephanie miller/corp/enron enron phillip k allen/hou/ect ect jane m tholt/hou/ect ect richard shapiro/na/enron enron cc : subject : talking points about california gas market here is my stab at the talking points to be sent in to ferc along with the gas pricing info they requested for the california markets <s> let me or christi know if you have any disagreements additions whatever <s> i am supposed to be out of here at DG:DGDG today so if you have stuff to add after that get it to christi <s> thanks <s>\""
      ]
     },
     "execution_count": 68,
     "metadata": {},
     "output_type": "execute_result"
    }
   ],
   "source": [
    "# nearest emails flagged:\n",
    "print(\"Positive labeled email:\")\n",
    "emails_df.loc[908, \"email_str\"]"
   ]
  },
  {
   "cell_type": "code",
   "execution_count": 79,
   "metadata": {},
   "outputs": [
    {
     "name": "stdout",
     "output_type": "stream",
     "text": [
      "Nearest neighbor example:\n"
     ]
    },
    {
     "data": {
      "text/plain": [
       "\"what i meant by the term `` electric disconnect '' which i thought was catchy but may have been inartful was simply that supply and demand signals were screwed up <s> this is the `` shelly corman '' argument which may or may not have any factual basis but i put it in there to have it in front of people for discussion <s> steven j kean DGDG/DGDG/DGDGDGDG DGDG:DGDG pm to : jeff dasovich/na/enron enron cc : christi l nicolay/hou/ect ect james d steffes/na/enron enron janet r dietrich/hou/ect ect jeff dasovich/na/enron enron jeffrey t hodge/hou/ect ect joe hartsoe/corp/enron enron leslie lawner/na/enron enron mary hain/hou/ect ect maureen mcvicker/na/enron enron richard shapiro/na/enron enron shelley corman/et & s/enron enron subject : re : draft talking points about california gas market given the way the numbers came out i guess we do n't need the talking points but we should still try to get to the bottom of this because we will be called on to comment to regulators and media <s> unless we have strong evidence to the contrary it seems to me that wholesale markets are working ... they are open and they are competitive <s> on the other hand retail gas markets suffer from the same problems as electric markets ... they are not open customers do n't have effective choices and price signals do n't get through so there is no demand response when prices rise <s> on the points raised in the attachment i 'm still not sure i follow point DG. also what does '' electric disconnect '' mean ? <s> jeff dasovich sent by : jeff dasovich DGDG/DGDG/DGDGDGDG DGDG:DGDG pm to : mary hain/hou/ect ect janet r dietrich/hou/ect ect jeffrey t hodge/hou/ect ect mary hain/hou/ect ect james d steffes/na/enron enron richard shapiro/na/enron enron steven j kean/na/enron enron maureen mcvicker/na/enron enron leslie lawner/na/enron enron christi l nicolay/hou/ect ect joe hartsoe/corp/enron enron shelley corman/et & s/enron enron cc : subject : re : draft talking points about california gas market leslie : looks good <s> just a couple of comments : DG. general may want to point out that the roots of california 's current gas woes are the same ones causing the electric problem -combined effect of california 's '' import-based '' energy policy and the state 's failure to invest in in-state infrastructure <s> california imports about DGDG % of its electricity but about DGDG-DGDG percent of its gas supply <s> california has failed to invest in the in-state infrastructure necessary to support increased gas demand over the last decade <s> so we 've got an interstate pipeline superhighway to the border and a dirt road of in-state transportation once you get into california <s> the last bullet seems to suggest that manipulation may be taking place <s> can we support that suggestion and is it one that we want to make necessarily ? <s> if we do suggest that manipulation may in part explain current prices do we need to propose ways to eliminate it ? <s> otherwise seems that we may be giving ferc ammunition to take action without trying to `` steer '' that action in the right direction <s> maybe i 'm reading too much into the bullet <s> DG. specific competition for gas coming to california has increased significantly <s> the midwest ( via alliance ) is competing away canadian gas <s> the southwest ( nevada arizona ) is competing away supply from the southwest before it hits the california border <s> mary hain ect DGDG/DGDG/DGDGDGDG DGDG:DGDG am to : jeff dasovich/na/enron enron cc : subject : draft talking points about california gas market by mary hain/hou/ect on DGDG/DGDG/DGDGDGDG DGDG:DGDG am - to : janet r dietrich/hou/ect ect jeffrey t hodge/hou/ect ect mary hain/hou/ect ect james d steffes/na/enron enron richard shapiro/na/enron enron steven j kean/na/enron enron maureen mcvicker/na/enron enron cc : subject : draft talking points about california gas market we thought it would be good to basically give chair hoecker talking points with any numbers that enron provides <s> we will visit on these later today when the numbers are ready ( before DG:DGDG ) <s> comments ? <s> by christi l nicolay/hou/ect on DGDG/DGDG/DGDGDGDG DGDG:DGDG am - from : leslie lawner enron on DGDG/DGDG/DGDGDGDG DGDG:DGDG am to : christi l nicolay/hou/ect ect joe hartsoe/corp/enron enron rebecca w cantrell/hou/ect ect ruth concannon/hou/ect ect stephanie miller/corp/enron enron phillip k allen/hou/ect ect jane m tholt/hou/ect ect richard shapiro/na/enron enron cc : subject : talking points about california gas market here is my stab at the talking points to be sent in to ferc along with the gas pricing info they requested for the california markets <s> let me or christi know if you have any disagreements additions whatever <s> i am supposed to be out of here at DG:DGDG today so if you have stuff to add after that get it to christi <s> thanks <s>\""
      ]
     },
     "execution_count": 79,
     "metadata": {},
     "output_type": "execute_result"
    }
   ],
   "source": [
    "print(\"Nearest neighbor example:\")\n",
    "emails_df.loc[228829, \"email_str\"]"
   ]
  }
 ],
 "metadata": {
  "kernelspec": {
   "display_name": "Python [default]",
   "language": "python",
   "name": "python3"
  },
  "language_info": {
   "codemirror_mode": {
    "name": "ipython",
    "version": 3
   },
   "file_extension": ".py",
   "mimetype": "text/x-python",
   "name": "python",
   "nbconvert_exporter": "python",
   "pygments_lexer": "ipython3",
   "version": "3.5.3"
  }
 },
 "nbformat": 4,
 "nbformat_minor": 2
}
