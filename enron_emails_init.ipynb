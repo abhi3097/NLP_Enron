{
 "cells": [
  {
   "cell_type": "code",
   "execution_count": 1,
   "metadata": {},
   "outputs": [],
   "source": [
    "from __future__ import print_function\n",
    "from __future__ import division\n",
    "\n",
    "import os, sys\n",
    "import collections\n",
    "import nltk\n",
    "import numpy as np\n",
    "import pandas as pd\n",
    "import email\n",
    "from nltk.tokenize.treebank import TreebankWordTokenizer\n",
    "from nltk.tokenize import sent_tokenize\n",
    "from sklearn.feature_extraction.text import *\n",
    "import random\n",
    "\n",
    "# Helper libraries\n",
    "import constants\n",
    "import utils\n",
    "import vocabulary"
   ]
  },
  {
   "cell_type": "markdown",
   "metadata": {},
   "source": [
    "## Load in Email Bodies\n",
    "Data source and exploration code: [Kaggle](https://www.kaggle.com/zichen/explore-enron)"
   ]
  },
  {
   "cell_type": "code",
   "execution_count": 2,
   "metadata": {},
   "outputs": [
    {
     "name": "stdout",
     "output_type": "stream",
     "text": [
      "Shape: (517401, 2)\n"
     ]
    },
    {
     "data": {
      "text/html": [
       "<div>\n",
       "<style scoped>\n",
       "    .dataframe tbody tr th:only-of-type {\n",
       "        vertical-align: middle;\n",
       "    }\n",
       "\n",
       "    .dataframe tbody tr th {\n",
       "        vertical-align: top;\n",
       "    }\n",
       "\n",
       "    .dataframe thead th {\n",
       "        text-align: right;\n",
       "    }\n",
       "</style>\n",
       "<table border=\"1\" class=\"dataframe\">\n",
       "  <thead>\n",
       "    <tr style=\"text-align: right;\">\n",
       "      <th></th>\n",
       "      <th>file</th>\n",
       "      <th>message</th>\n",
       "    </tr>\n",
       "  </thead>\n",
       "  <tbody>\n",
       "    <tr>\n",
       "      <th>0</th>\n",
       "      <td>allen-p/_sent_mail/1.</td>\n",
       "      <td>Message-ID: &lt;18782981.1075855378110.JavaMail.e...</td>\n",
       "    </tr>\n",
       "    <tr>\n",
       "      <th>1</th>\n",
       "      <td>allen-p/_sent_mail/10.</td>\n",
       "      <td>Message-ID: &lt;15464986.1075855378456.JavaMail.e...</td>\n",
       "    </tr>\n",
       "    <tr>\n",
       "      <th>2</th>\n",
       "      <td>allen-p/_sent_mail/100.</td>\n",
       "      <td>Message-ID: &lt;24216240.1075855687451.JavaMail.e...</td>\n",
       "    </tr>\n",
       "    <tr>\n",
       "      <th>3</th>\n",
       "      <td>allen-p/_sent_mail/1000.</td>\n",
       "      <td>Message-ID: &lt;13505866.1075863688222.JavaMail.e...</td>\n",
       "    </tr>\n",
       "    <tr>\n",
       "      <th>4</th>\n",
       "      <td>allen-p/_sent_mail/1001.</td>\n",
       "      <td>Message-ID: &lt;30922949.1075863688243.JavaMail.e...</td>\n",
       "    </tr>\n",
       "  </tbody>\n",
       "</table>\n",
       "</div>"
      ],
      "text/plain": [
       "                       file                                            message\n",
       "0     allen-p/_sent_mail/1.  Message-ID: <18782981.1075855378110.JavaMail.e...\n",
       "1    allen-p/_sent_mail/10.  Message-ID: <15464986.1075855378456.JavaMail.e...\n",
       "2   allen-p/_sent_mail/100.  Message-ID: <24216240.1075855687451.JavaMail.e...\n",
       "3  allen-p/_sent_mail/1000.  Message-ID: <13505866.1075863688222.JavaMail.e...\n",
       "4  allen-p/_sent_mail/1001.  Message-ID: <30922949.1075863688243.JavaMail.e..."
      ]
     },
     "execution_count": 2,
     "metadata": {},
     "output_type": "execute_result"
    }
   ],
   "source": [
    "# load csv dataset - download from Kaggle (linked above, ~.5gb)\n",
    "\n",
    "# replace with local path\n",
    "path = '/mnt/c/Users/clay/Desktop/w266'\n",
    "#path = 'C:/Users/Colby/Documents/Berkeley/266_NLP/final_project/data'\n",
    "\n",
    "# all emails for targeted search\n",
    "all_emails = pd.read_csv(path + '/emails.csv')\n",
    "#emails_df = pd.read_csv(path + '/emails.csv', rows = 50000)\n",
    "\n",
    "print(\"Shape:\", all_emails.shape)\n",
    "all_emails.head()\n",
    "#print(all_emails['message'][1])"
   ]
  },
  {
   "cell_type": "code",
   "execution_count": 3,
   "metadata": {},
   "outputs": [
    {
     "name": "stdout",
     "output_type": "stream",
     "text": [
      "Full shape: (517401, 3)\n",
      "Mini shape: (50000, 3)\n"
     ]
    },
    {
     "data": {
      "text/html": [
       "<div>\n",
       "<style scoped>\n",
       "    .dataframe tbody tr th:only-of-type {\n",
       "        vertical-align: middle;\n",
       "    }\n",
       "\n",
       "    .dataframe tbody tr th {\n",
       "        vertical-align: top;\n",
       "    }\n",
       "\n",
       "    .dataframe thead th {\n",
       "        text-align: right;\n",
       "    }\n",
       "</style>\n",
       "<table border=\"1\" class=\"dataframe\">\n",
       "  <thead>\n",
       "    <tr style=\"text-align: right;\">\n",
       "      <th></th>\n",
       "      <th>file</th>\n",
       "      <th>message</th>\n",
       "      <th>content_str</th>\n",
       "    </tr>\n",
       "  </thead>\n",
       "  <tbody>\n",
       "    <tr>\n",
       "      <th>0</th>\n",
       "      <td>allen-p/_sent_mail/1.</td>\n",
       "      <td>Message-ID: &lt;18782981.1075855378110.JavaMail.e...</td>\n",
       "      <td>Here is our forecast\\n\\n</td>\n",
       "    </tr>\n",
       "    <tr>\n",
       "      <th>1</th>\n",
       "      <td>allen-p/_sent_mail/10.</td>\n",
       "      <td>Message-ID: &lt;15464986.1075855378456.JavaMail.e...</td>\n",
       "      <td>Traveling to have a business meeting takes the...</td>\n",
       "    </tr>\n",
       "    <tr>\n",
       "      <th>2</th>\n",
       "      <td>allen-p/_sent_mail/100.</td>\n",
       "      <td>Message-ID: &lt;24216240.1075855687451.JavaMail.e...</td>\n",
       "      <td>test successful.  way to go!!!</td>\n",
       "    </tr>\n",
       "    <tr>\n",
       "      <th>3</th>\n",
       "      <td>allen-p/_sent_mail/1000.</td>\n",
       "      <td>Message-ID: &lt;13505866.1075863688222.JavaMail.e...</td>\n",
       "      <td>Randy,\\n\\n Can you send me a schedule of the s...</td>\n",
       "    </tr>\n",
       "    <tr>\n",
       "      <th>4</th>\n",
       "      <td>allen-p/_sent_mail/1001.</td>\n",
       "      <td>Message-ID: &lt;30922949.1075863688243.JavaMail.e...</td>\n",
       "      <td>Let's shoot for Tuesday at 11:45.</td>\n",
       "    </tr>\n",
       "  </tbody>\n",
       "</table>\n",
       "</div>"
      ],
      "text/plain": [
       "                       file  \\\n",
       "0     allen-p/_sent_mail/1.   \n",
       "1    allen-p/_sent_mail/10.   \n",
       "2   allen-p/_sent_mail/100.   \n",
       "3  allen-p/_sent_mail/1000.   \n",
       "4  allen-p/_sent_mail/1001.   \n",
       "\n",
       "                                             message  \\\n",
       "0  Message-ID: <18782981.1075855378110.JavaMail.e...   \n",
       "1  Message-ID: <15464986.1075855378456.JavaMail.e...   \n",
       "2  Message-ID: <24216240.1075855687451.JavaMail.e...   \n",
       "3  Message-ID: <13505866.1075863688222.JavaMail.e...   \n",
       "4  Message-ID: <30922949.1075863688243.JavaMail.e...   \n",
       "\n",
       "                                         content_str  \n",
       "0                          Here is our forecast\\n\\n   \n",
       "1  Traveling to have a business meeting takes the...  \n",
       "2                     test successful.  way to go!!!  \n",
       "3  Randy,\\n\\n Can you send me a schedule of the s...  \n",
       "4                Let's shoot for Tuesday at 11:45.    "
      ]
     },
     "execution_count": 3,
     "metadata": {},
     "output_type": "execute_result"
    }
   ],
   "source": [
    "# citation: Kaggle exploration code\n",
    "# isolate email body\n",
    "# run-time: ~ 3 minutes on full dataset\n",
    "\n",
    "def get_text_from_email(msg):\n",
    "    '''To get the content from email objects'''\n",
    "    parts = []\n",
    "    for part in msg.walk():\n",
    "        if part.get_content_type() == 'text/plain':\n",
    "            parts.append( part.get_payload() )\n",
    "    return ''.join(parts)\n",
    "\n",
    "# Parse the emails into a list email objects\n",
    "messages = list(map(email.message_from_string, all_emails['message']))\n",
    "#emails_df.drop('message', axis=1, inplace=True)\n",
    "\n",
    "# Parse content from emails\n",
    "all_emails['content_str'] = list(map(get_text_from_email, messages))\n",
    "\n",
    "del messages\n",
    "\n",
    "\n",
    "# mini version for preprocessing (to save run-time)\n",
    "size = 50000\n",
    "emails_df = all_emails.loc[range(size),]\n",
    "print(\"Full shape:\", all_emails.shape)\n",
    "print(\"Mini shape:\", emails_df.shape)\n",
    "\n",
    "all_emails.head()"
   ]
  },
  {
   "cell_type": "markdown",
   "metadata": {},
   "source": [
    "## Query Raw Contents for Suspicious Phrases\n",
    "### Store dataframe indexes\n",
    "Use this block to search raw messages and store the row indexes in *target_ids*"
   ]
  },
  {
   "cell_type": "code",
   "execution_count": 24,
   "metadata": {},
   "outputs": [
    {
     "name": "stdout",
     "output_type": "stream",
     "text": [
      "(6, 3)\n",
      "Matching indexes: [114757, 115480, 116217, 117325, 118775, 289272]\n"
     ]
    }
   ],
   "source": [
    "# test phrase - enter between quotes\n",
    "phrase = \"during the recent antitrust unpleasantness\"\n",
    "\n",
    "query = all_emails[all_emails['content_str'].str.contains(phrase, case=False)]\n",
    "print(query.shape)\n",
    "print(\"Matching indexes:\", query.index.tolist())"
   ]
  },
  {
   "cell_type": "code",
   "execution_count": 25,
   "metadata": {
    "scrolled": true
   },
   "outputs": [
    {
     "name": "stdout",
     "output_type": "stream",
     "text": [
      "Please forward this to all ETS lawyers.  DF\n",
      "\n",
      "All:  Please take a look at this article.  El Paso's inartful internal documents are creating the same kind of fun for them that Microsoft had during the recent antitrust unpleasantness.  I know that we can't control the way people think about issues such as market behavior, price strategy, etc.  We can, however, remind ourselves and our clients to be very precise and careful in the way we talk about, and particularly, write about, such issues.  I'd like each of us and our clients to keep problems like El Paso's and Microsoft's in mind when we put pen to paper or fingers to keyboard.  Thanks.  df       \n",
      "\n",
      "---------------------- Forwarded by Drew Fossum/ET&S/Enron on 03/27/2001 12:06 PM ---------------------------\n",
      "\n",
      "\n",
      "\n",
      "\n",
      "\n",
      "Business/Financial Desk; Section A\n",
      "Deal for Use of Gas Pipeline Stirs Dispute on Competition\n",
      "By RICHARD A. OPPEL Jr. and LOWELL BERGMAN\n",
      "\n",
      "03/26/2001\n",
      "The New York Times\n",
      "Page 1, Column 4\n",
      "c. 2001 New York Times Company\n",
      "\n",
      "Early last year, the El Paso Natural Gas Company took bids from two dozen companies for the right to ship enough natural gas through its pipeline from Texas and New Mexico to meet one-sixth of the daily demand of energy-starved California. \n",
      "The winner: El Paso's sister company, the El Paso Merchant Energy Company, which buys, sells and trades natural gas. The bidding was not close. El Paso Merchant offered twice as much for the capacity as the other companies bid, in total, for bits and pieces.\n",
      "Why pay so much more? California officials, who are pressing a complaint against El Paso at the Federal Energy Regulatory Commission, say the answer is simple. The state contends that El Paso Merchant, with help from its sister company, saw the transaction as a way to manipulate the price of natural gas by using its control of pipeline capacity. \n",
      "According to sealed documents obtained by The New York Times that are part of filings in the federal case, executives at El Paso Merchant said internally that the deal would give them ''more control'' of gas markets, including the ''ability to influence the physical market'' to benefit the company's financial positions. \n",
      "El Paso executives called the accusations fanciful, and in a formal response to California's complaint, said the state ''grossly distorted'' company documents by quoting words and phrases out of context. \n",
      "The dispute opens a window on an important debate about oversight of the natural gas industry, which fuels a growing share of the nation's electric power plants. \n",
      "At issue is whether current safeguards do enough to prevent anticompetitive abuses in the marketing and trading of natural gas, and whether federal regulators adequately enforce existing rules. In particular, many industry officials question whether regulated pipeline companies are able to favor unregulated sister companies that trade natural gas and are free to maximize profits. \n",
      "More than 200,000 miles of interstate pipelines crisscross the country, moving natural gas from Canada, the Southwest and other producing regions to fuel factories, power utilities and heat houses. \n",
      "Not long ago, many parts of the country had excess pipeline capacity. But experts say that several regions, including California, New York and New England, now face constraints as demand soars for gas to fuel power plants. \n",
      "In California, state officials and utility executives said the documents in the federal case, and El Paso's actions, were proof that the state's energy crisis stemmed not just from an ill-conceived deregulation plan but from price manipulation and profiteering. \n",
      "''They are the market maker with this pipeline,'' said Loretta Lynch, the president of the California Public Utilities Commission, which has struggled to cope with skyrocketing power prices and supply shortages. \n",
      "El Paso ''sets the price in California,'' Ms. Lynch said, and what it did was intentional. ''It has affected the price,'' she said, ''for everything related to heat and electrical power prices in the state.'' \n",
      "California's complaint to the federal agency contends that El Paso Merchant ''has hoarded capacity and refused to attractively price unused capacity'' on the pipeline. The state also charges that El Paso Natural Gas, the pipeline's owner, has had no incentive to spur competition, by offering discounts to other users, because the two companies are corporate siblings. The state said that El Paso had violated federal natural gas statutes that prohibit anticompetitive behavior. \n",
      "The sealed filings in the El Paso case indicated that the company expected to make money by widening the ''basis spread'' -- the difference between what gas can be bought for in producing basins of Texas and New Mexico, at one end of the pipeline, and its price on delivery to Southern California. \n",
      "As it turned out, spreads widened enormously over the last year as the price of gas soared in California, adding to costs for wholesale electricity that pushed the biggest utilities near bankruptcy. California utilities paid $6.2 billion above competitive prices for wholesale electricity over the last 10 months, state officials estimated. The utilities are not allowed to recoup the costs from customers. While the cost of 1,000 cubic feet of gas typically is less than $1 higher at the California end of the pipeline, spot prices in the state rose to almost $50 more than the Texas-New Mexico price in December. \n",
      "To executives of the parent company, the El Paso Corporation, the accusations of market manipulation are ludicrous. \n",
      "High gas prices in California, El Paso executives said in interviews, are easily explained by soaring demand, the poor credit standing of the state's utilities and the failure of the utilities to retain pipeline capacity or store enough gas for winter. \n",
      "''The idea that anybody is holding back on California is really ridiculous,'' said Clark C. Smith, president of El Paso Merchant's operations in North America. \n",
      "Some El Paso customers, though, agreed with California officials. The Pacific Gas & Electric Company, the San Francisco-based utility, condemned El Paso in a filing with the federal agency after its lawyers reviewed the sealed company documents. \n",
      "''It is now very clear from the business records of El Paso Energy Corporation,'' the utility said in the filing, ''that the business strategy El Paso Merchant was authorized at the highest corporate levels to pursue involved manipulation of price spreads.'' \n",
      "The agency has not ruled on California's complaint, which asks that the deal between El Paso Natural Gas and El Paso Merchant be invalidated. Based on the agency's history of policing energy providers lightly, many industry observers predicted that the complaint would be dismissed, perhaps as soon as the agency's public meeting on Wednesday. \n",
      "Nonetheless, El Paso Merchant is feeling some pressure. The subsidiary said recently that it planned to relinquish control of all but about 22 percent of the capacity on the pipeline to California, rather than exercise an option that would have allowed it to retain the entire capacity of 1.2 billion cubic feet of gas a day. \n",
      "Critics said they believed El Paso made the move in hopes of lessening the chance of government action. El Paso executives deny that but do say that their decision was influenced by the backlash over the arrangement. \n",
      "Surrendering the pipeline capacity made for a ''gut-wrenching'' decision, Mr. Smith said, but was ''a first-class gesture'' to California. El Paso Merchant paid $38.5 million to control the pipeline capacity from March 1, 2000, until May 31, 2001. While Mr. Clark said he did not know the return on that investment, he acknowledged that it was lucrative. \n",
      "''No doubt about it,'' Mr. Clark said, ''we made good money.'' \n",
      "The question of whether El Paso's conduct has driven gas prices higher is expected to be scrutinized by legislators in Sacramento this week. The company also faces several lawsuits, including one by the city of Los Angeles, that accuse it of conspiring with other companies to prevent pipeline projects that could have eased California's energy crisis. El Paso denied the accusation. \n",
      "With pipeline capacity and gas supplies tighter, concerns about anticompetitive behavior have increased as price volatility has created soaring profits for energy marketers and traders. \n",
      "Dynegy Inc., a Houston-based energy trader, was once the target of complaints to federal regulators that it had artificially raised prices by abusing capacity that it controlled on El Paso's pipeline to California. \n",
      "In a filing with regulators in January, Dynegy contended that pipeline companies routinely favored affiliates. ''Abuses abound because of financial windfalls, difficulty of detection, lengthy investigations and increased complexity of the market,'' the company said. \n",
      "''There are some red flags right now,'' said William L. Massey, a member of the Federal Energy Regulatory Commission since 1993. Mr. Massey said he was troubled by the potential for abuses when pipeline companies own gas and power marketing subsidiaries as well as electric plants fueled by natural gas. El Paso is in all those businesses. \n",
      "''What the commission ought to be serious about is: What are the forces at work? Is it simply robust markets responding to true supply-and-demand signals, or is it a market defined by market power and some measure of affiliate abuse?'' he said. \n",
      "Many in the industry do not believe changes are needed. \n",
      "''There are rules in place today that protect against affiliate abuse,'' said Stanley Horton, chief executive for gas pipeline operations at the Enron Corporation and chairman of the Interstate Natural Gas Association of America, the industry's trade group, referring to the rules under which California has brought its complaint about El Paso. \n",
      "To its critics, El Paso epitomizes the competitive concerns. It operates the nation's largest network of interstate pipelines and owns one of the largest reserves of natural gas. With its recent acquisition of the Coastal Corporation, another large pipeline operator, El Paso has a market capitalization of $32 billion. \n",
      "At a conference at El Paso headquarters in Houston in February, analysts heard executives predict net profits of $1.7 billion this year. El Paso's much better known rival, Enron, with its headquarters a few blocks away, is expected to earn about $1.4 billion. \n",
      "El Paso Merchant provides the strongest growth. Two years ago, the unit's profits, before interest payments and taxes, were $99 million; this year, it is expected to have $700 million in North America alone. In its latest quarterly report, El Paso attributed those profits, in part, to ''commodity market and trading margins'' that were enhanced by ''power price volatility, particularly in the Western United States.'' \n",
      "Critics contend that El Paso set out to exploit those conditions. According to the sealed filings, on Feb. 14, 2000, the day before El Paso Merchant was awarded the pipeline capacity, executives made a presentation to William A. Wise, chief executive of the parent company, laying out the rationale for the bid. \n",
      "The presentation outlined what it termed ''strategic advantages,'' including ''more control of total physical markets'' and the ''ability to influence the physical market to the benefit of any financial/hedge position,'' according to the sealed filings. The passages suggested that El Paso expected the deal to give it sway over the market for trading actual volumes of gas and to support financial transactions it had entered into with other parties to limit its risk. \n",
      "For every one-cent increase in the spread on gas prices, the presentation said, El Paso Merchant stood to make an additional $2.4 million. \n",
      "Under the heading ''Challenges,'' according to the sealed filings, the presentation stated that storage was needed ''to help manipulate physical spreads, adding to the overall transport/storage cost.'' \n",
      "On April 14, according to the sealed filings, El Paso Merchant's president at the time, Greg G. Jenkins, wrote a memorandum to Mr. Wise involving an update for directors meeting later that month. The memorandum stated: ''We will make money two ways: 1) increase the load factor, 2) widen the basis spread.'' \n",
      "The language appears to suggest that El Paso Merchant would profit by increasing the gas flow in the pipeline -- the load factor -- while increasing the difference between what gas could be bought for at one end and what it could be sold for at the other end -- the basis spread. \n",
      "In an interview, Mr. Smith, the El Paso Merchant executive, said that the unit's prices, and profits, on bulk gas sales in California were locked in months in advance, so that the company could not benefit from rising prices in the spot market. \n",
      "Otherwise, Mr. Smith declined to provide any details about money made on the pipeline deal or about financial terms of the transactions that locked in prices ahead of time. In addition, Mr. Smith said that nearly all of El Paso Merchant's pipeline capacity was used every day when prices spiked late last year, with no capacity withheld to increase prices. \n",
      "The company did not respond last week to a request to discuss information in the sealed documents. But El Paso Merchant, in a filing with federal regulators, said California's complaint had ''misconstrued and incorrectly interpreted'' what it termed ''snippets of data.'' \n",
      "About This Report \n",
      "This article and others on California's energy problems are part of a joint effort with the PBS series ''Frontline'' that will result in a documentary later this year.\n",
      "\n",
      "\n",
      "Photo: The El Paso Natural Gas pipeline passes near Topock, Ariz. A dispute over bidding for its use has spurred a debate about oversight of the industry. (John Gurzinski for The New York Times)(pg. A17) Chart: ''Boom Times'' Operating revenue and net income soared last year at the El Paso Corpor 2/3ation, which sells, transports and trades natural gas. Graphs of the operating revenue and the net income for the El Paso Corporation. (Source: Company reports)(pg. A17) Chart: ''A Spike in Prices'' The spot price for natural gas produced in the Permian Basin of West Texas doubled last year. But the price that power generators paid when the gas was delivered to Southern California rose almost 10-fold. State regulators say the gap is evidence of market manipulation. Graph showing the spot price of gas delivered to Southern California and the spot price of gas bought in the Permian Basin, from September to March. (Source: Gas Daily)(pg. A17) \n",
      "\n",
      "\n",
      "\n",
      "Copyright ? 2000 Dow Jones & Company, Inc. All Rights Reserved. \t\n",
      "\n",
      "\n",
      "\n"
     ]
    }
   ],
   "source": [
    "# enter matching index from list above\n",
    "enter_id = 114757\n",
    "print(query.loc[enter_id,'content_str'])\n",
    "\n",
    "# store ids here in the form {123: 1, 456: 1, ...}\n",
    "target_ids = {450200: 1}"
   ]
  },
  {
   "cell_type": "markdown",
   "metadata": {},
   "source": [
    "### Get Random Sample for Labeling\n",
    "\n",
    "Reviewed 200 examples in first 50,000 emails"
   ]
  },
  {
   "cell_type": "code",
   "execution_count": 6,
   "metadata": {},
   "outputs": [
    {
     "name": "stdout",
     "output_type": "stream",
     "text": [
      "Sample set shape: (200, 3)\n"
     ]
    }
   ],
   "source": [
    "# keep seed = 24 for sample of first 50000 emails\n",
    "random.seed(24)\n",
    "rand_num = 100\n",
    "rand_ids_1 = random.sample(range(2000), rand_num)\n",
    "rand_ids_2 = random.sample(range(2000,50000), rand_num)\n",
    "rand_ids = rand_ids_1 + rand_ids_2\n",
    "rand_set = emails_df.loc[rand_ids,]\n",
    "#print(rand_ids)\n",
    "print(\"Sample set shape:\", rand_set.shape)\n",
    "#for id_ in rand_ids:\n",
    "#    print(id_)\n",
    "#    print(rand_set.loc[id_, 'content_str'])\n",
    "\n",
    "# assign labels based on id\n",
    "label_dict = {373: 1, 346: 1, 405: 1, 27091: 1, 13966: 1, 8861: 1, 92183: 1, 17932: 1, 12955: 1, 8101: 1, 19004: 1,\\\n",
    "              32643: 1, 114757: 1}\n",
    "rand_set[\"suspicious_ind\"] = np.zeros(len(rand_ids))\n",
    "for k in label_dict.keys():\n",
    "    rand_set.loc[k, \"suspicious_ind\"] = label_dict.get(k)"
   ]
  },
  {
   "cell_type": "code",
   "execution_count": 56,
   "metadata": {
    "scrolled": true
   },
   "outputs": [
    {
     "data": {
      "text/html": [
       "<div>\n",
       "<style>\n",
       "    .dataframe thead tr:only-child th {\n",
       "        text-align: right;\n",
       "    }\n",
       "\n",
       "    .dataframe thead th {\n",
       "        text-align: left;\n",
       "    }\n",
       "\n",
       "    .dataframe tbody tr th {\n",
       "        vertical-align: top;\n",
       "    }\n",
       "</style>\n",
       "<table border=\"1\" class=\"dataframe\">\n",
       "  <thead>\n",
       "    <tr style=\"text-align: right;\">\n",
       "      <th></th>\n",
       "      <th>file</th>\n",
       "      <th>message</th>\n",
       "      <th>content_str</th>\n",
       "      <th>content_tokens</th>\n",
       "      <th>content_IDS</th>\n",
       "      <th>suspicious_ind</th>\n",
       "    </tr>\n",
       "  </thead>\n",
       "  <tbody>\n",
       "    <tr>\n",
       "      <th>1458</th>\n",
       "      <td>allen-p/deleted_items/381.</td>\n",
       "      <td>Message-ID: &lt;26393700.1075862162007.JavaMail.e...</td>\n",
       "      <td>[IMAGE]\\n [IMAGE][IMAGE]       [IMAGE] Yahoo! ...</td>\n",
       "      <td>[[, image, ], [, image, ], [, image, ], [, ima...</td>\n",
       "      <td>[0, 78, 107, 79, 78, 107, 79, 78, 107, 79, 78,...</td>\n",
       "      <td>0.0</td>\n",
       "    </tr>\n",
       "    <tr>\n",
       "      <th>784</th>\n",
       "      <td>allen-p/all_documents/266.</td>\n",
       "      <td>Message-ID: &lt;16945.1075855671306.JavaMail.evan...</td>\n",
       "      <td>Kay &amp; Neal,\\n\\nThanks for remembering my birth...</td>\n",
       "      <td>[kay, &amp;, neal, ,, thanks, for, remembering, my...</td>\n",
       "      <td>[0, 2, 43, 2, 3, 102, 16, 2, 94, 2, 4, 1, 0, 1...</td>\n",
       "      <td>0.0</td>\n",
       "    </tr>\n",
       "    <tr>\n",
       "      <th>1719</th>\n",
       "      <td>allen-p/discussion_threads/212.</td>\n",
       "      <td>Message-ID: &lt;19120705.1075855677934.JavaMail.e...</td>\n",
       "      <td>Attached  are two files that illustrate the fo...</td>\n",
       "      <td>[attached, are, two, files, that, illustrate, ...</td>\n",
       "      <td>[0, 198, 41, 181, 2, 25, 2, 5, 197, 9, 44, 359...</td>\n",
       "      <td>0.0</td>\n",
       "    </tr>\n",
       "    <tr>\n",
       "      <th>1193</th>\n",
       "      <td>allen-p/all_documents/73.</td>\n",
       "      <td>Message-ID: &lt;22565759.1075855667097.JavaMail.e...</td>\n",
       "      <td>Put me down as a reviewer</td>\n",
       "      <td>[put, me, down, as, a, reviewer]</td>\n",
       "      <td>[0, 412, 72, 302, 44, 14, 2, 1]</td>\n",
       "      <td>0.0</td>\n",
       "    </tr>\n",
       "    <tr>\n",
       "      <th>373</th>\n",
       "      <td>allen-p/_sent_mail/439.</td>\n",
       "      <td>Message-ID: &lt;14134673.1075855725697.JavaMail.e...</td>\n",
       "      <td>Jacques,\\n\\nStill trying to close the loop on ...</td>\n",
       "      <td>[jacques, ,, still, trying, to, close, the, lo...</td>\n",
       "      <td>[0, 2, 3, 226, 846, 7, 583, 5, 2, 20, 5, 54, 1...</td>\n",
       "      <td>1.0</td>\n",
       "    </tr>\n",
       "  </tbody>\n",
       "</table>\n",
       "</div>"
      ],
      "text/plain": [
       "                                 file  \\\n",
       "1458       allen-p/deleted_items/381.   \n",
       "784        allen-p/all_documents/266.   \n",
       "1719  allen-p/discussion_threads/212.   \n",
       "1193        allen-p/all_documents/73.   \n",
       "373           allen-p/_sent_mail/439.   \n",
       "\n",
       "                                                message  \\\n",
       "1458  Message-ID: <26393700.1075862162007.JavaMail.e...   \n",
       "784   Message-ID: <16945.1075855671306.JavaMail.evan...   \n",
       "1719  Message-ID: <19120705.1075855677934.JavaMail.e...   \n",
       "1193  Message-ID: <22565759.1075855667097.JavaMail.e...   \n",
       "373   Message-ID: <14134673.1075855725697.JavaMail.e...   \n",
       "\n",
       "                                            content_str  \\\n",
       "1458  [IMAGE]\\n [IMAGE][IMAGE]       [IMAGE] Yahoo! ...   \n",
       "784   Kay & Neal,\\n\\nThanks for remembering my birth...   \n",
       "1719  Attached  are two files that illustrate the fo...   \n",
       "1193                          Put me down as a reviewer   \n",
       "373   Jacques,\\n\\nStill trying to close the loop on ...   \n",
       "\n",
       "                                         content_tokens  \\\n",
       "1458  [[, image, ], [, image, ], [, image, ], [, ima...   \n",
       "784   [kay, &, neal, ,, thanks, for, remembering, my...   \n",
       "1719  [attached, are, two, files, that, illustrate, ...   \n",
       "1193                   [put, me, down, as, a, reviewer]   \n",
       "373   [jacques, ,, still, trying, to, close, the, lo...   \n",
       "\n",
       "                                            content_IDS  suspicious_ind  \n",
       "1458  [0, 78, 107, 79, 78, 107, 79, 78, 107, 79, 78,...             0.0  \n",
       "784   [0, 2, 43, 2, 3, 102, 16, 2, 94, 2, 4, 1, 0, 1...             0.0  \n",
       "1719  [0, 198, 41, 181, 2, 25, 2, 5, 197, 9, 44, 359...             0.0  \n",
       "1193                    [0, 412, 72, 302, 44, 14, 2, 1]             0.0  \n",
       "373   [0, 2, 3, 226, 846, 7, 583, 5, 2, 20, 5, 54, 1...             1.0  "
      ]
     },
     "execution_count": 56,
     "metadata": {},
     "output_type": "execute_result"
    }
   ],
   "source": [
    "rand_set.head()"
   ]
  },
  {
   "cell_type": "markdown",
   "metadata": {},
   "source": [
    "## Preprocess Raw Email Contents"
   ]
  },
  {
   "cell_type": "code",
   "execution_count": 4,
   "metadata": {},
   "outputs": [
    {
     "name": "stdout",
     "output_type": "stream",
     "text": [
      "Total Number of Tokens: 15743385\n"
     ]
    }
   ],
   "source": [
    "# tokenize and canonicalize each email to get vocab\n",
    "# WARNING: THIS STEP TAKES ~40 MINUTES ON LOCAL MACHINE WHEN USING ALL 500K EMAILS\n",
    "tokenizer = TreebankWordTokenizer()\n",
    "all_tokens = []\n",
    "email_tokens = []\n",
    "\n",
    "for i, body in enumerate(emails_df[\"content_str\"]):\n",
    "    #get sentence level\n",
    "    sents = nltk.tokenize.sent_tokenize(body)\n",
    "    canon = []\n",
    "    for sent in sents:\n",
    "        #list of tokens in sentence\n",
    "        sent_tokens = tokenizer.tokenize(sent)\n",
    "        canon += utils.canonicalize_words(sent_tokens)\n",
    "    all_tokens += canon\n",
    "    email_tokens.append(canon)\n",
    "\n",
    "emails_df[\"content_tokens\"] = email_tokens\n",
    "print(\"Total Number of Tokens:\", len(all_tokens))"
   ]
  },
  {
   "cell_type": "code",
   "execution_count": 15,
   "metadata": {},
   "outputs": [
    {
     "name": "stdout",
     "output_type": "stream",
     "text": [
      "Vocabulary size: 30,000\n",
      "Unigrams:  167039\n"
     ]
    }
   ],
   "source": [
    "# build vocab\n",
    "# V = size\n",
    "V = 30000\n",
    "vocab = vocabulary.Vocabulary(all_tokens, size=V)\n",
    "print(\"Vocabulary size: {:,}\".format(vocab.size))\n",
    "vocab_ids = vocab.words_to_ids(all_tokens)\n",
    "print(\"Unigrams: \", len(vocab.unigram_counts))"
   ]
  },
  {
   "cell_type": "code",
   "execution_count": 16,
   "metadata": {},
   "outputs": [
    {
     "data": {
      "text/plain": [
       "[0, 954, 1896, 4, 1, 0, 219, 7, 193, 59, 59, 1, 0, 59, 1]"
      ]
     },
     "execution_count": 16,
     "metadata": {},
     "output_type": "execute_result"
    }
   ],
   "source": [
    "# preprocess email bodies with unknowns and sentence buffers\n",
    "emails_preprocessed = []\n",
    "\n",
    "for i, body in enumerate(emails_df[\"content_str\"]):\n",
    "    #get sentence level\n",
    "    sents = nltk.tokenize.sent_tokenize(body)\n",
    "    list_sents = []\n",
    "    for sent in sents:\n",
    "        #list of tokens in sentence\n",
    "        sent_tokens = tokenizer.tokenize(sent)\n",
    "        list_sents.append(sent_tokens)\n",
    "    #preprocessed = list(utils.preprocess_sentences(list_sents, vocab, use_eos=True, emit_ids=False))\n",
    "    #just keep word IDs\n",
    "    preprocessed = list(utils.preprocess_sentences(list_sents, vocab, use_eos=True, emit_ids=True))\n",
    "    emails_preprocessed.append(preprocessed)\n",
    "\n",
    "emails_df[\"content_IDS\"] = emails_preprocessed\n",
    "emails_preprocessed[2]"
   ]
  },
  {
   "cell_type": "code",
   "execution_count": 17,
   "metadata": {},
   "outputs": [
    {
     "data": {
      "text/plain": [
       "['<s>',\n",
       " 'test',\n",
       " 'successful',\n",
       " '.',\n",
       " '</s>',\n",
       " '<s>',\n",
       " 'way',\n",
       " 'to',\n",
       " 'go',\n",
       " '!',\n",
       " '!',\n",
       " '</s>',\n",
       " '<s>',\n",
       " '!',\n",
       " '</s>']"
      ]
     },
     "execution_count": 17,
     "metadata": {},
     "output_type": "execute_result"
    }
   ],
   "source": [
    "# test ID to word\n",
    "vocab.ids_to_words(emails_df.loc[2, \"content_IDS\"])"
   ]
  },
  {
   "cell_type": "code",
   "execution_count": 18,
   "metadata": {
    "scrolled": true
   },
   "outputs": [
    {
     "data": {
      "text/html": [
       "<div>\n",
       "<style>\n",
       "    .dataframe thead tr:only-child th {\n",
       "        text-align: right;\n",
       "    }\n",
       "\n",
       "    .dataframe thead th {\n",
       "        text-align: left;\n",
       "    }\n",
       "\n",
       "    .dataframe tbody tr th {\n",
       "        vertical-align: top;\n",
       "    }\n",
       "</style>\n",
       "<table border=\"1\" class=\"dataframe\">\n",
       "  <thead>\n",
       "    <tr style=\"text-align: right;\">\n",
       "      <th></th>\n",
       "      <th>file</th>\n",
       "      <th>message</th>\n",
       "      <th>content_str</th>\n",
       "      <th>content_tokens</th>\n",
       "      <th>content_IDS</th>\n",
       "    </tr>\n",
       "  </thead>\n",
       "  <tbody>\n",
       "    <tr>\n",
       "      <th>0</th>\n",
       "      <td>allen-p/_sent_mail/1.</td>\n",
       "      <td>Message-ID: &lt;18782981.1075855378110.JavaMail.e...</td>\n",
       "      <td>Here is our forecast\\n\\n</td>\n",
       "      <td>[here, is, our, forecast]</td>\n",
       "      <td>[0, 139, 21, 74, 2693, 1]</td>\n",
       "    </tr>\n",
       "    <tr>\n",
       "      <th>1</th>\n",
       "      <td>allen-p/_sent_mail/10.</td>\n",
       "      <td>Message-ID: &lt;15464986.1075855378456.JavaMail.e...</td>\n",
       "      <td>Traveling to have a business meeting takes the...</td>\n",
       "      <td>[traveling, to, have, a, business, meeting, ta...</td>\n",
       "      <td>[0, 3838, 7, 37, 14, 133, 123, 1805, 5, 1140, ...</td>\n",
       "    </tr>\n",
       "    <tr>\n",
       "      <th>2</th>\n",
       "      <td>allen-p/_sent_mail/100.</td>\n",
       "      <td>Message-ID: &lt;24216240.1075855687451.JavaMail.e...</td>\n",
       "      <td>test successful.  way to go!!!</td>\n",
       "      <td>[test, successful, ., way, to, go, !, !, !]</td>\n",
       "      <td>[0, 954, 1896, 4, 1, 0, 219, 7, 193, 59, 59, 1...</td>\n",
       "    </tr>\n",
       "    <tr>\n",
       "      <th>3</th>\n",
       "      <td>allen-p/_sent_mail/1000.</td>\n",
       "      <td>Message-ID: &lt;13505866.1075863688222.JavaMail.e...</td>\n",
       "      <td>Randy,\\n\\n Can you send me a schedule of the s...</td>\n",
       "      <td>[randy, ,, can, you, send, me, a, schedule, of...</td>\n",
       "      <td>[0, 1086, 3, 69, 17, 274, 72, 14, 389, 12, 5, ...</td>\n",
       "    </tr>\n",
       "    <tr>\n",
       "      <th>4</th>\n",
       "      <td>allen-p/_sent_mail/1001.</td>\n",
       "      <td>Message-ID: &lt;30922949.1075863688243.JavaMail.e...</td>\n",
       "      <td>Let's shoot for Tuesday at 11:45.</td>\n",
       "      <td>[let, 's, shoot, for, tuesday, at, DGDG:DGDG, .]</td>\n",
       "      <td>[0, 129, 40, 6339, 16, 245, 34, 55, 4, 1]</td>\n",
       "    </tr>\n",
       "  </tbody>\n",
       "</table>\n",
       "</div>"
      ],
      "text/plain": [
       "                       file  \\\n",
       "0     allen-p/_sent_mail/1.   \n",
       "1    allen-p/_sent_mail/10.   \n",
       "2   allen-p/_sent_mail/100.   \n",
       "3  allen-p/_sent_mail/1000.   \n",
       "4  allen-p/_sent_mail/1001.   \n",
       "\n",
       "                                             message  \\\n",
       "0  Message-ID: <18782981.1075855378110.JavaMail.e...   \n",
       "1  Message-ID: <15464986.1075855378456.JavaMail.e...   \n",
       "2  Message-ID: <24216240.1075855687451.JavaMail.e...   \n",
       "3  Message-ID: <13505866.1075863688222.JavaMail.e...   \n",
       "4  Message-ID: <30922949.1075863688243.JavaMail.e...   \n",
       "\n",
       "                                         content_str  \\\n",
       "0                          Here is our forecast\\n\\n    \n",
       "1  Traveling to have a business meeting takes the...   \n",
       "2                     test successful.  way to go!!!   \n",
       "3  Randy,\\n\\n Can you send me a schedule of the s...   \n",
       "4                Let's shoot for Tuesday at 11:45.     \n",
       "\n",
       "                                      content_tokens  \\\n",
       "0                          [here, is, our, forecast]   \n",
       "1  [traveling, to, have, a, business, meeting, ta...   \n",
       "2        [test, successful, ., way, to, go, !, !, !]   \n",
       "3  [randy, ,, can, you, send, me, a, schedule, of...   \n",
       "4   [let, 's, shoot, for, tuesday, at, DGDG:DGDG, .]   \n",
       "\n",
       "                                         content_IDS  \n",
       "0                          [0, 139, 21, 74, 2693, 1]  \n",
       "1  [0, 3838, 7, 37, 14, 133, 123, 1805, 5, 1140, ...  \n",
       "2  [0, 954, 1896, 4, 1, 0, 219, 7, 193, 59, 59, 1...  \n",
       "3  [0, 1086, 3, 69, 17, 274, 72, 14, 389, 12, 5, ...  \n",
       "4          [0, 129, 40, 6339, 16, 245, 34, 55, 4, 1]  "
      ]
     },
     "execution_count": 18,
     "metadata": {},
     "output_type": "execute_result"
    }
   ],
   "source": [
    "emails_df.head()"
   ]
  },
  {
   "cell_type": "markdown",
   "metadata": {},
   "source": [
    "## Generate BOW features and longer N-grams"
   ]
  },
  {
   "cell_type": "code",
   "execution_count": 20,
   "metadata": {},
   "outputs": [
    {
     "name": "stdout",
     "output_type": "stream",
     "text": [
      "BOW shape: (50000, 30000)\n",
      "TF-IDF:    (50000, 30000)\n"
     ]
    }
   ],
   "source": [
    "# generate BOW features based on vocab.size V (above) and transform to TF-IDF\n",
    "# uses canonicalized words\n",
    "bow_feats = utils.id_lists_to_sparse_bow(emails_df[\"content_IDS\"], vocab.size)\n",
    "print(\"BOW shape: \", bow_feats.shape)\n",
    "transformer = TfidfTransformer()\n",
    "bow_tfidf = transformer.fit_transform(bow_feats)\n",
    "print(\"BOW TF-IDF:\", bow_tfidf.shape)"
   ]
  },
  {
   "cell_type": "code",
   "execution_count": 24,
   "metadata": {},
   "outputs": [
    {
     "name": "stdout",
     "output_type": "stream",
     "text": [
      "N-grams shape:  (50000, 1560)\n",
      "N-grams TF-IDF: (50000, 1560)\n"
     ]
    }
   ],
   "source": [
    "# consider longer n-grams\n",
    "vectorize = CountVectorizer(ngram_range=(2, 3), max_df=.3, min_df=.01)\n",
    "n_grams = vectorize.fit_transform(emails_df[\"content_str\"])\n",
    "print(\"N-grams shape: \", n_grams.shape)\n",
    "\n",
    "n_grams_idf = transformer.fit_transform(n_grams)\n",
    "print(\"N-grams TF-IDF:\", n_grams_idf.shape)"
   ]
  }
 ],
 "metadata": {
  "kernelspec": {
   "display_name": "Python 3",
   "language": "python",
   "name": "python3"
  },
  "language_info": {
   "codemirror_mode": {
    "name": "ipython",
    "version": 3
   },
   "file_extension": ".py",
   "mimetype": "text/x-python",
   "name": "python",
   "nbconvert_exporter": "python",
   "pygments_lexer": "ipython3",
   "version": "3.6.4"
  }
 },
 "nbformat": 4,
 "nbformat_minor": 2
}
